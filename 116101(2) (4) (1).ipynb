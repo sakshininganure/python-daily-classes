{
  "nbformat": 4,
  "nbformat_minor": 0,
  "metadata": {
    "colab": {
      "provenance": []
    },
    "kernelspec": {
      "name": "python3",
      "display_name": "Python 3"
    },
    "language_info": {
      "name": "python"
    }
  },
  "cells": [
    {
      "cell_type": "code",
      "source": [
        "a,b,c = \"good\", \"morning\",18\n",
        "print(a,b,c)"
      ],
      "metadata": {
        "colab": {
          "base_uri": "https://localhost:8080/"
        },
        "id": "OyKcWbwRp7ui",
        "outputId": "0d009031-809e-4c2f-fc21-b86f89416735"
      },
      "execution_count": 1125,
      "outputs": [
        {
          "output_type": "stream",
          "name": "stdout",
          "text": [
            "good morning 18\n"
          ]
        }
      ]
    },
    {
      "cell_type": "code",
      "source": [
        "x= y = z =1001\n",
        "print(x,y,z)"
      ],
      "metadata": {
        "colab": {
          "base_uri": "https://localhost:8080/"
        },
        "id": "cqp-lnkiuti7",
        "outputId": "89c99ed5-31e4-4029-f12c-761834cbdb17"
      },
      "execution_count": 1126,
      "outputs": [
        {
          "output_type": "stream",
          "name": "stdout",
          "text": [
            "1001 1001 1001\n"
          ]
        }
      ]
    },
    {
      "cell_type": "code",
      "source": [
        "A = B, C= \"College\" , 25\n",
        "print(B, C, A)"
      ],
      "metadata": {
        "colab": {
          "base_uri": "https://localhost:8080/"
        },
        "id": "WNGVsk6UvCxH",
        "outputId": "758d809c-e065-4ad1-a7f6-c3e4c60ecb15"
      },
      "execution_count": 1127,
      "outputs": [
        {
          "output_type": "stream",
          "name": "stdout",
          "text": [
            "College 25 ('College', 25)\n"
          ]
        }
      ]
    },
    {
      "cell_type": "code",
      "source": [
        "A =10\n",
        "B =20\n",
        "print(\"Addition of\",A,\"and\",B,\"is =\",A+B )"
      ],
      "metadata": {
        "colab": {
          "base_uri": "https://localhost:8080/"
        },
        "id": "OMNAii5FzKJs",
        "outputId": "a793f539-702f-4e01-9c54-894c8dca0e2f"
      },
      "execution_count": 1128,
      "outputs": [
        {
          "output_type": "stream",
          "name": "stdout",
          "text": [
            "Addition of 10 and 20 is = 30\n"
          ]
        }
      ]
    },
    {
      "cell_type": "code",
      "source": [
        "A=10\n",
        "print(type(A))"
      ],
      "metadata": {
        "colab": {
          "base_uri": "https://localhost:8080/"
        },
        "id": "JIV-GhVr0Bwt",
        "outputId": "3b17c79e-daa3-4f9c-c4d2-1d9764c39a73"
      },
      "execution_count": 1129,
      "outputs": [
        {
          "output_type": "stream",
          "name": "stdout",
          "text": [
            "<class 'int'>\n"
          ]
        }
      ]
    },
    {
      "cell_type": "code",
      "source": [
        "X = 35\n",
        "print(type(x))"
      ],
      "metadata": {
        "colab": {
          "base_uri": "https://localhost:8080/"
        },
        "id": "jA6wm0BU1XnK",
        "outputId": "06e8a066-fbc8-4cdc-fdf8-969b5234d14e"
      },
      "execution_count": 1130,
      "outputs": [
        {
          "output_type": "stream",
          "name": "stdout",
          "text": [
            "<class 'int'>\n"
          ]
        }
      ]
    },
    {
      "cell_type": "code",
      "source": [
        "college = -100\n",
        "print(type (college))"
      ],
      "metadata": {
        "colab": {
          "base_uri": "https://localhost:8080/"
        },
        "id": "uIsfIm2Y16DN",
        "outputId": "a081c0d2-cc39-4711-dcd5-cbb018c19fbe"
      },
      "execution_count": 1131,
      "outputs": [
        {
          "output_type": "stream",
          "name": "stdout",
          "text": [
            "<class 'int'>\n"
          ]
        }
      ]
    },
    {
      "cell_type": "code",
      "source": [
        "value = 0\n",
        "print(type(value))"
      ],
      "metadata": {
        "colab": {
          "base_uri": "https://localhost:8080/"
        },
        "id": "ewLgnsCb2OAd",
        "outputId": "9d7e5816-bff4-4d95-cc0c-671d0abd99a8"
      },
      "execution_count": 1132,
      "outputs": [
        {
          "output_type": "stream",
          "name": "stdout",
          "text": [
            "<class 'int'>\n"
          ]
        }
      ]
    },
    {
      "cell_type": "code",
      "source": [
        "system = +200\n",
        "print(type(system))"
      ],
      "metadata": {
        "colab": {
          "base_uri": "https://localhost:8080/"
        },
        "id": "qfpXQYtD2duu",
        "outputId": "2917b8ce-d0ba-4290-dcdf-35510f64831a"
      },
      "execution_count": 1133,
      "outputs": [
        {
          "output_type": "stream",
          "name": "stdout",
          "text": [
            "<class 'int'>\n"
          ]
        }
      ]
    },
    {
      "cell_type": "code",
      "source": [
        " value = 3.33\n",
        " print(type(value))"
      ],
      "metadata": {
        "colab": {
          "base_uri": "https://localhost:8080/"
        },
        "id": "-1eGKxHv3GpO",
        "outputId": "7118aeac-e105-44d5-9208-af6e5d6f63f5"
      },
      "execution_count": 1134,
      "outputs": [
        {
          "output_type": "stream",
          "name": "stdout",
          "text": [
            "<class 'float'>\n"
          ]
        }
      ]
    },
    {
      "cell_type": "code",
      "source": [
        "name =-100.33\n",
        "print(type(name))"
      ],
      "metadata": {
        "colab": {
          "base_uri": "https://localhost:8080/"
        },
        "id": "Xic3ZBht32En",
        "outputId": "ffcef9e3-d706-46c3-b10f-975b69b8fb86"
      },
      "execution_count": 1135,
      "outputs": [
        {
          "output_type": "stream",
          "name": "stdout",
          "text": [
            "<class 'float'>\n"
          ]
        }
      ]
    },
    {
      "cell_type": "code",
      "source": [
        "name = 100/7\n",
        "print(type(name))"
      ],
      "metadata": {
        "colab": {
          "base_uri": "https://localhost:8080/"
        },
        "id": "OPzYzrQB4E4f",
        "outputId": "2cba45a8-5771-4a35-e2c8-cf0d6c65d2b0"
      },
      "execution_count": 1136,
      "outputs": [
        {
          "output_type": "stream",
          "name": "stdout",
          "text": [
            "<class 'float'>\n"
          ]
        }
      ]
    },
    {
      "cell_type": "code",
      "source": [
        "yes = True\n",
        "print(type(yes))"
      ],
      "metadata": {
        "colab": {
          "base_uri": "https://localhost:8080/"
        },
        "id": "VemGtYsI4Y1I",
        "outputId": "219f5019-8367-4588-cd8f-320494fbb790"
      },
      "execution_count": 1137,
      "outputs": [
        {
          "output_type": "stream",
          "name": "stdout",
          "text": [
            "<class 'bool'>\n"
          ]
        }
      ]
    },
    {
      "cell_type": "code",
      "source": [
        "yes = \"False\"\n",
        "print(type(yes))\n"
      ],
      "metadata": {
        "colab": {
          "base_uri": "https://localhost:8080/"
        },
        "id": "IEG1nxK25eAt",
        "outputId": "a7b373fa-f86b-41d5-8729-27c9ffefa763"
      },
      "execution_count": 1138,
      "outputs": [
        {
          "output_type": "stream",
          "name": "stdout",
          "text": [
            "<class 'str'>\n"
          ]
        }
      ]
    },
    {
      "cell_type": "code",
      "source": [
        "value = 27.12\n",
        "print(type(value))"
      ],
      "metadata": {
        "colab": {
          "base_uri": "https://localhost:8080/"
        },
        "id": "16qK0-fb6OqX",
        "outputId": "a90655bb-0f34-42b2-f3d7-0df6283854f5"
      },
      "execution_count": 1139,
      "outputs": [
        {
          "output_type": "stream",
          "name": "stdout",
          "text": [
            "<class 'float'>\n"
          ]
        }
      ]
    },
    {
      "cell_type": "code",
      "source": [
        "section = '''c'''\n",
        "print(type(section))"
      ],
      "metadata": {
        "colab": {
          "base_uri": "https://localhost:8080/"
        },
        "id": "I51Ls1u16lhf",
        "outputId": "5447d62b-9329-4c0b-c3c6-d0b67637307b"
      },
      "execution_count": 1140,
      "outputs": [
        {
          "output_type": "stream",
          "name": "stdout",
          "text": [
            "<class 'str'>\n"
          ]
        }
      ]
    },
    {
      "cell_type": "code",
      "source": [
        "programe = \"\"\" programe\"\"\"\n",
        "print(type(programe))"
      ],
      "metadata": {
        "colab": {
          "base_uri": "https://localhost:8080/"
        },
        "id": "1HLTi6ps617-",
        "outputId": "9ca3b44a-6ff4-496e-c6a6-36e2ba81b8fa"
      },
      "execution_count": 1141,
      "outputs": [
        {
          "output_type": "stream",
          "name": "stdout",
          "text": [
            "<class 'str'>\n"
          ]
        }
      ]
    },
    {
      "cell_type": "code",
      "source": [
        "String = \"python programming language\"\n",
        "\n",
        "print(String)"
      ],
      "metadata": {
        "colab": {
          "base_uri": "https://localhost:8080/"
        },
        "id": "3tseGyUd9MMY",
        "outputId": "77f3bf3e-3dcf-4b94-fa99-8cc42b133170"
      },
      "execution_count": 1142,
      "outputs": [
        {
          "output_type": "stream",
          "name": "stdout",
          "text": [
            "python programming language\n"
          ]
        }
      ]
    },
    {
      "cell_type": "code",
      "source": [
        "first = \"BK\\n\"\n",
        "second = \"college\\n\"\n",
        "print(first+second*5)"
      ],
      "metadata": {
        "colab": {
          "base_uri": "https://localhost:8080/"
        },
        "id": "cSNsMGFD-aiA",
        "outputId": "a4b6be34-3f5f-4134-fe15-9c101af120fc"
      },
      "execution_count": 1143,
      "outputs": [
        {
          "output_type": "stream",
          "name": "stdout",
          "text": [
            "BK\n",
            "college\n",
            "college\n",
            "college\n",
            "college\n",
            "college\n",
            "\n"
          ]
        }
      ]
    },
    {
      "cell_type": "code",
      "source": [
        "Number = 78*3\n",
        "print(type(Number))"
      ],
      "metadata": {
        "colab": {
          "base_uri": "https://localhost:8080/"
        },
        "id": "I0h5ptdGBEZS",
        "outputId": "3f6603a2-1990-4b24-9fcd-9bc07b20e3b9"
      },
      "execution_count": 1144,
      "outputs": [
        {
          "output_type": "stream",
          "name": "stdout",
          "text": [
            "<class 'int'>\n"
          ]
        }
      ]
    },
    {
      "cell_type": "code",
      "source": [
        "first = \"BK\"\n",
        "SECOND = \"college\"\n",
        "print(((first +\" \"+second)+\"\\n\")*5)"
      ],
      "metadata": {
        "colab": {
          "base_uri": "https://localhost:8080/"
        },
        "id": "hplVN2BoCQgo",
        "outputId": "61474fec-5ee1-4217-adc0-a46d9fdb48dd"
      },
      "execution_count": 1145,
      "outputs": [
        {
          "output_type": "stream",
          "name": "stdout",
          "text": [
            "BK college\n",
            "\n",
            "BK college\n",
            "\n",
            "BK college\n",
            "\n",
            "BK college\n",
            "\n",
            "BK college\n",
            "\n",
            "\n"
          ]
        }
      ]
    },
    {
      "cell_type": "code",
      "source": [
        "name = \"python programming languages\"\n",
        "print(name[5])\n",
        "print(name[-2])\n",
        "print(name[18])\n",
        "print(name[3:14])\n",
        "print(name[:20])\n",
        "print(name[6:])\n",
        "print(name[:-1])\n",
        "print(name[-22:-4])\n",
        "print(name[::1])\n",
        "print(name[::2])\n",
        "print(name[::-1])\n",
        "print(name[::-3])\n",
        "print(name[::-4])\n"
      ],
      "metadata": {
        "colab": {
          "base_uri": "https://localhost:8080/"
        },
        "id": "vY-uvK_wEgWn",
        "outputId": "36d9daaa-2eec-4ae4-da3d-4a73ec15459e"
      },
      "execution_count": 1146,
      "outputs": [
        {
          "output_type": "stream",
          "name": "stdout",
          "text": [
            "n\n",
            "e\n",
            " \n",
            "hon program\n",
            "python programming l\n",
            " programming languages\n",
            "python programming language\n",
            " programming langu\n",
            "python programming languages\n",
            "pto rgamn agae\n",
            "segaugnal gnimmargorp nohtyp\n",
            "san iao hp\n",
            "sulirph\n"
          ]
        }
      ]
    },
    {
      "cell_type": "code",
      "source": [
        " Details ='''multi line comments\n",
        "hi, Good Morning\n",
        "'''\n",
        "print(Details)"
      ],
      "metadata": {
        "colab": {
          "base_uri": "https://localhost:8080/"
        },
        "id": "RyNjet12KtCq",
        "outputId": "03b4e89f-46d0-4b31-86b9-e7a933190d40"
      },
      "execution_count": 1147,
      "outputs": [
        {
          "output_type": "stream",
          "name": "stdout",
          "text": [
            "multi line comments\n",
            "hi, Good Morning\n",
            "\n"
          ]
        }
      ]
    },
    {
      "cell_type": "code",
      "source": [
        "list1 = [101]\n",
        "print(list1)\n",
        "print(type(list1))\n",
        "list1. append(\"shrushti\")\n",
        "print(list1)"
      ],
      "metadata": {
        "colab": {
          "base_uri": "https://localhost:8080/"
        },
        "id": "V2rRUzPpZZfO",
        "outputId": "346d40e0-7991-403a-d47e-6dec14e3feeb"
      },
      "execution_count": 1148,
      "outputs": [
        {
          "output_type": "stream",
          "name": "stdout",
          "text": [
            "[101]\n",
            "<class 'list'>\n",
            "[101, 'shrushti']\n"
          ]
        }
      ]
    },
    {
      "cell_type": "code",
      "source": [
        "details = [101]\n",
        "print(details) #101\n",
        "print(type(details))#list\n",
        "details.append(85.12)\n",
        "print(details)# 101\n",
        "details. append (True)\n",
        "print(details)# 101, 85.12 True\n",
        "print(len(details))\n",
        "print(details.pop())\n",
        "print(details)\n",
        "details.append(\"shrushti\")\n",
        "print(details)\n",
        "details.append(-99)\n",
        "print(details)\n",
        "print(len(details))\n",
        "print(details[2])\n",
        "print(details[-1])\n",
        "details.append(\"B.K College\")\n",
        "print(details)\n",
        "details[3]= 90\n",
        "print(details)\n",
        "print(\"shrushti99\")\n",
        "print(details[2:4])\n",
        "details.insert(2,False)\n",
        "print(details)\n",
        "print(len(details))\n",
        "print(details[4])\n",
        "print(details[::-1])\n",
        "print(details.count(101))\n",
        "print(details.clear())\n",
        "print(details)\n",
        "print(type(details))\n",
        "\n",
        "\n",
        "\n"
      ],
      "metadata": {
        "colab": {
          "base_uri": "https://localhost:8080/"
        },
        "id": "jN0jGzMmQyZ1",
        "outputId": "5ccea0e7-09cd-4ebe-ff71-f8a8992b3d9f"
      },
      "execution_count": 1149,
      "outputs": [
        {
          "output_type": "stream",
          "name": "stdout",
          "text": [
            "[101]\n",
            "<class 'list'>\n",
            "[101, 85.12]\n",
            "[101, 85.12, True]\n",
            "3\n",
            "True\n",
            "[101, 85.12]\n",
            "[101, 85.12, 'shrushti']\n",
            "[101, 85.12, 'shrushti', -99]\n",
            "4\n",
            "shrushti\n",
            "-99\n",
            "[101, 85.12, 'shrushti', -99, 'B.K College']\n",
            "[101, 85.12, 'shrushti', 90, 'B.K College']\n",
            "shrushti99\n",
            "['shrushti', 90]\n",
            "[101, 85.12, False, 'shrushti', 90, 'B.K College']\n",
            "6\n",
            "90\n",
            "['B.K College', 90, 'shrushti', False, 85.12, 101]\n",
            "1\n",
            "None\n",
            "[]\n",
            "<class 'list'>\n"
          ]
        }
      ]
    },
    {
      "cell_type": "code",
      "source": [
        "Information=[110]\n",
        "print(Information)#110\n",
        "print(type(Information))#list\n",
        "Information.append(80.20)\n",
        "print(Information)# 110,80.20\n",
        "Information.append(True)\n",
        "print(Information)#110,80.20\n",
        "print(len(Information))\n",
        "print(Information.pop())\n",
        "print(Information)\n",
        "print(\"shrushti\")\n",
        "Information.append(\"shrushti\")\n",
        "print(Information)\n",
        "Information.append(-97)\n",
        "print(Information)\n",
        "print(len(Information))\n",
        "print(Information[3])\n",
        "print(Information[-2])\n",
        "Information.append(\"B.K.College\")\n",
        "print(Information)\n",
        "print(len(Information))\n",
        "Information[4]=97\n",
        "print(Information)\n",
        "print(\"shrushti97\")\n",
        "print(Information[3:2])\n",
        "Information.insert(4,False)\n",
        "print(Information)\n",
        "print(Information[3])\n",
        "print(Information[::-2])\n",
        "print(Information.count(110))\n",
        "\n",
        "\n"
      ],
      "metadata": {
        "colab": {
          "base_uri": "https://localhost:8080/"
        },
        "id": "NbE_TqdmdsM3",
        "outputId": "20a28f07-2b5a-46ac-9728-911ef75e5e81"
      },
      "execution_count": 1150,
      "outputs": [
        {
          "output_type": "stream",
          "name": "stdout",
          "text": [
            "[110]\n",
            "<class 'list'>\n",
            "[110, 80.2]\n",
            "[110, 80.2, True]\n",
            "3\n",
            "True\n",
            "[110, 80.2]\n",
            "shrushti\n",
            "[110, 80.2, 'shrushti']\n",
            "[110, 80.2, 'shrushti', -97]\n",
            "4\n",
            "-97\n",
            "shrushti\n",
            "[110, 80.2, 'shrushti', -97, 'B.K.College']\n",
            "5\n",
            "[110, 80.2, 'shrushti', -97, 97]\n",
            "shrushti97\n",
            "[]\n",
            "[110, 80.2, 'shrushti', -97, False, 97]\n",
            "-97\n",
            "[97, -97, 80.2]\n",
            "1\n"
          ]
        }
      ]
    },
    {
      "cell_type": "code",
      "source": [
        "#address 2010\n",
        "print(3+3)"
      ],
      "metadata": {
        "colab": {
          "base_uri": "https://localhost:8080/"
        },
        "id": "-GBIV68LfpJO",
        "outputId": "86a5f739-a43b-4bf8-aa61-19f269c6226c"
      },
      "execution_count": 1151,
      "outputs": [
        {
          "output_type": "stream",
          "name": "stdout",
          "text": [
            "6\n"
          ]
        }
      ]
    },
    {
      "cell_type": "code",
      "source": [
        "Example = (1,\"Shrushti\",3.12,False,1)\n",
        "print(Example)\n",
        "print(len(Example))\n",
        "print(type(Example))\n",
        "print(Example.count(1))\n",
        "print(Example[0:3])\n",
        "print(Example[3])\n",
        "print(Example[-1])\n"
      ],
      "metadata": {
        "colab": {
          "base_uri": "https://localhost:8080/"
        },
        "id": "bCUHM8UWhahW",
        "outputId": "3477500e-0da5-45cf-d98a-ca59dc34f7eb"
      },
      "execution_count": 1152,
      "outputs": [
        {
          "output_type": "stream",
          "name": "stdout",
          "text": [
            "(1, 'Shrushti', 3.12, False, 1)\n",
            "5\n",
            "<class 'tuple'>\n",
            "2\n",
            "(1, 'Shrushti', 3.12)\n",
            "False\n",
            "1\n"
          ]
        }
      ]
    },
    {
      "cell_type": "code",
      "source": [
        "Number = (2,4,7,9,3,2)\n",
        "print(Number)\n",
        "add = (2,4,5,7)\n",
        "print(Number+add)\n",
        "print(add *4)\n",
        "\n",
        "\n"
      ],
      "metadata": {
        "colab": {
          "base_uri": "https://localhost:8080/"
        },
        "id": "Bh9DfKigldXU",
        "outputId": "00d7f5d5-7710-48d6-fb36-9d4d7c1ecbc0"
      },
      "execution_count": 1153,
      "outputs": [
        {
          "output_type": "stream",
          "name": "stdout",
          "text": [
            "(2, 4, 7, 9, 3, 2)\n",
            "(2, 4, 7, 9, 3, 2, 2, 4, 5, 7)\n",
            "(2, 4, 5, 7, 2, 4, 5, 7, 2, 4, 5, 7, 2, 4, 5, 7)\n"
          ]
        }
      ]
    },
    {
      "cell_type": "code",
      "source": [
        "example = {1,2,3,4,5}\n",
        "print(example)\n",
        "print(type(example))\n",
        "print(len(example))\n",
        "example.add(10)\n",
        "print(example)\n",
        "example.add(\"B.K.C\")\n",
        "print(example)"
      ],
      "metadata": {
        "colab": {
          "base_uri": "https://localhost:8080/"
        },
        "id": "508sDdoWo_sP",
        "outputId": "383da8f1-3cab-4118-9c67-692d9e51ab4b"
      },
      "execution_count": 1154,
      "outputs": [
        {
          "output_type": "stream",
          "name": "stdout",
          "text": [
            "{1, 2, 3, 4, 5}\n",
            "<class 'set'>\n",
            "5\n",
            "{1, 2, 3, 4, 5, 10}\n",
            "{1, 2, 3, 4, 5, 'B.K.C', 10}\n"
          ]
        }
      ]
    },
    {
      "cell_type": "code",
      "source": [
        "example = {1,2,3,4,5,6,7}\n",
        "print(example)\n",
        "print(type(example))\n",
        "print(len(example))\n",
        "example.add(\"BKC\")\n",
        "print(example)\n",
        "example.add(5.67)\n",
        "print(example)\n",
        "example.add (\"True\")\n",
        "print(example)\n",
        "print(example.pop())\n",
        "print(example)\n",
        "example.remove(4)\n",
        "print(example)\n",
        "\n",
        "\n",
        "\n"
      ],
      "metadata": {
        "colab": {
          "base_uri": "https://localhost:8080/"
        },
        "id": "0rG5q9ewqTaf",
        "outputId": "3bc450ac-ba54-4402-bd54-b47daaf47e6b"
      },
      "execution_count": 1155,
      "outputs": [
        {
          "output_type": "stream",
          "name": "stdout",
          "text": [
            "{1, 2, 3, 4, 5, 6, 7}\n",
            "<class 'set'>\n",
            "7\n",
            "{1, 2, 3, 4, 5, 6, 7, 'BKC'}\n",
            "{1, 2, 3, 4, 5, 6, 7, 5.67, 'BKC'}\n",
            "{1, 2, 3, 4, 5, 6, 7, 5.67, 'True', 'BKC'}\n",
            "1\n",
            "{2, 3, 4, 5, 6, 7, 5.67, 'True', 'BKC'}\n",
            "{2, 3, 5, 6, 7, 5.67, 'True', 'BKC'}\n"
          ]
        }
      ]
    },
    {
      "cell_type": "code",
      "source": [
        "first = {1,2,3,4,4,2}\n",
        "second = {3,5,4,4,6}\n",
        "print(first | second)\n",
        "print(first.union(second))\n",
        "print(first & second)\n",
        "print(first.intersection(second))\n",
        "print(first- second)\n",
        "print(first.difference(second))\n",
        "print(second-first)\n",
        "print(second.difference(first))\n"
      ],
      "metadata": {
        "colab": {
          "base_uri": "https://localhost:8080/"
        },
        "id": "w-a4ite-tk8s",
        "outputId": "26ffe394-2982-41d0-b5ef-b3d2744ec615"
      },
      "execution_count": 1156,
      "outputs": [
        {
          "output_type": "stream",
          "name": "stdout",
          "text": [
            "{1, 2, 3, 4, 5, 6}\n",
            "{1, 2, 3, 4, 5, 6}\n",
            "{3, 4}\n",
            "{3, 4}\n",
            "{1, 2}\n",
            "{1, 2}\n",
            "{5, 6}\n",
            "{5, 6}\n"
          ]
        }
      ]
    },
    {
      "cell_type": "code",
      "source": [
        "Dict = {\"Roll_number\" :   101,\n",
        "        \"Name\"        :   \"Shrushti\",\n",
        "        \"Address\"     :   \"Chikodi\",\n",
        "        \"CGPA\"        :    7.53,\n",
        "        \"Course\"      :    \"BCA\",\n",
        "        \"Year\"        :     2025\n",
        "}\n",
        "print(Dict)\n",
        "print(len(Dict))\n",
        "Dict[\"Gender\"] =  \"Female\"\n",
        "print(Dict)\n",
        "Dict[\"College\"] = \"Majalatti\"\n",
        "print(Dict)\n",
        "Dict[\"College\"] = \"Rani chennamma university\"\n",
        "print(Dict)\n",
        "del Dict[\"Gender\"]\n",
        "print(Dict)\n",
        "Dict[\"Gender\"] =\" Female\"\n",
        "print(Dict)\n",
        "print(Dict[\"College\"])\n",
        "Dict[\"Age\"] = 18\n",
        "print(Dict[\"Age\"])\n",
        "Dict.popitem()\n",
        "print(Dict)\n",
        "print(Dict.keys())\n",
        "print(Dict.values())\n",
        "print(Dict.items())\n",
        "print(Dict.clear())\n"
      ],
      "metadata": {
        "colab": {
          "base_uri": "https://localhost:8080/"
        },
        "id": "PCOeVzZBxqK4",
        "outputId": "aca6772f-1c1d-42fa-b920-e894f8b6ef0d"
      },
      "execution_count": 1157,
      "outputs": [
        {
          "output_type": "stream",
          "name": "stdout",
          "text": [
            "{'Roll_number': 101, 'Name': 'Shrushti', 'Address': 'Chikodi', 'CGPA': 7.53, 'Course': 'BCA', 'Year': 2025}\n",
            "6\n",
            "{'Roll_number': 101, 'Name': 'Shrushti', 'Address': 'Chikodi', 'CGPA': 7.53, 'Course': 'BCA', 'Year': 2025, 'Gender': 'Female'}\n",
            "{'Roll_number': 101, 'Name': 'Shrushti', 'Address': 'Chikodi', 'CGPA': 7.53, 'Course': 'BCA', 'Year': 2025, 'Gender': 'Female', 'College': 'Majalatti'}\n",
            "{'Roll_number': 101, 'Name': 'Shrushti', 'Address': 'Chikodi', 'CGPA': 7.53, 'Course': 'BCA', 'Year': 2025, 'Gender': 'Female', 'College': 'Rani chennamma university'}\n",
            "{'Roll_number': 101, 'Name': 'Shrushti', 'Address': 'Chikodi', 'CGPA': 7.53, 'Course': 'BCA', 'Year': 2025, 'College': 'Rani chennamma university'}\n",
            "{'Roll_number': 101, 'Name': 'Shrushti', 'Address': 'Chikodi', 'CGPA': 7.53, 'Course': 'BCA', 'Year': 2025, 'College': 'Rani chennamma university', 'Gender': ' Female'}\n",
            "Rani chennamma university\n",
            "18\n",
            "{'Roll_number': 101, 'Name': 'Shrushti', 'Address': 'Chikodi', 'CGPA': 7.53, 'Course': 'BCA', 'Year': 2025, 'College': 'Rani chennamma university', 'Gender': ' Female'}\n",
            "dict_keys(['Roll_number', 'Name', 'Address', 'CGPA', 'Course', 'Year', 'College', 'Gender'])\n",
            "dict_values([101, 'Shrushti', 'Chikodi', 7.53, 'BCA', 2025, 'Rani chennamma university', ' Female'])\n",
            "dict_items([('Roll_number', 101), ('Name', 'Shrushti'), ('Address', 'Chikodi'), ('CGPA', 7.53), ('Course', 'BCA'), ('Year', 2025), ('College', 'Rani chennamma university'), ('Gender', ' Female')])\n",
            "None\n"
          ]
        }
      ]
    },
    {
      "cell_type": "code",
      "source": [],
      "metadata": {
        "id": "36fBhaheeAEq"
      },
      "execution_count": 1157,
      "outputs": []
    },
    {
      "cell_type": "code",
      "source": [
        "  Empy = {\"Empy_id\" : 176,\n",
        "          \"Empy name\" : \"sakshi\",\n",
        "          \"Empy contact no\" : 5566778899,\n",
        "          \"Empy salary\" : 50000,\n",
        "          \"Empy_id\" : \"sakshi@gmail.com\",\n",
        "          \"company\" : \"TATA\",\n",
        "          \"empy_habbit\" : \"reading book\"\n",
        "  }\n",
        "  print(Empy)\n",
        "  print(len(Empy))\n",
        "  Empy[\"Department\"] = \"Data entry\"\n",
        "  print(Empy)\n",
        "  Empy[\"Country\"] =\"India\"\n",
        "  print(Empy)\n",
        "  print(len(Empy))\n",
        "\n",
        "\n",
        "\n",
        "\n",
        "\n",
        "\n",
        "\n",
        "\n",
        "\n",
        "\n",
        "\n",
        "\n"
      ],
      "metadata": {
        "colab": {
          "base_uri": "https://localhost:8080/"
        },
        "id": "wf31aJKkG4m5",
        "outputId": "dcc315b7-7e5b-41d1-85a8-3a4a2bf6518b"
      },
      "execution_count": 1158,
      "outputs": [
        {
          "output_type": "stream",
          "name": "stdout",
          "text": [
            "{'Empy_id': 'sakshi@gmail.com', 'Empy name': 'sakshi', 'Empy contact no': 5566778899, 'Empy salary': 50000, 'company': 'TATA', 'empy_habbit': 'reading book'}\n",
            "6\n",
            "{'Empy_id': 'sakshi@gmail.com', 'Empy name': 'sakshi', 'Empy contact no': 5566778899, 'Empy salary': 50000, 'company': 'TATA', 'empy_habbit': 'reading book', 'Department': 'Data entry'}\n",
            "{'Empy_id': 'sakshi@gmail.com', 'Empy name': 'sakshi', 'Empy contact no': 5566778899, 'Empy salary': 50000, 'company': 'TATA', 'empy_habbit': 'reading book', 'Department': 'Data entry', 'Country': 'India'}\n",
            "8\n"
          ]
        }
      ]
    },
    {
      "cell_type": "code",
      "source": [
        "Name = { \"Name\"    :  \"Shrushti\",\n",
        "         \"name\"    :  \"Shrushti\",\n",
        "         \"F_name\"  :  \"Shrushti\",\n",
        "         \"L_name\"  :  \"Shrushti\"\n",
        "}\n",
        "print(Name)"
      ],
      "metadata": {
        "colab": {
          "base_uri": "https://localhost:8080/"
        },
        "id": "BPxcFrc-LcMI",
        "outputId": "bb7dfcc0-eff3-450c-e5f7-24a35d9f262e"
      },
      "execution_count": 1159,
      "outputs": [
        {
          "output_type": "stream",
          "name": "stdout",
          "text": [
            "{'Name': 'Shrushti', 'name': 'Shrushti', 'F_name': 'Shrushti', 'L_name': 'Shrushti'}\n"
          ]
        }
      ]
    },
    {
      "cell_type": "code",
      "source": [
        "a = 10\n",
        "b = 3\n",
        "c = a/b\n",
        "print(type(a))\n",
        "print(type(b))\n",
        "print(type(a/b))\n",
        "a,b,c =2.5,3.5,a+B\n",
        "print(type(a+b))\n",
        "print(type(a))\n",
        "print(type(b))\n",
        "print(type(c))"
      ],
      "metadata": {
        "colab": {
          "base_uri": "https://localhost:8080/"
        },
        "id": "DKf1xZ_0eHbA",
        "outputId": "7b32b24b-7ed8-4738-8a64-d7e2664504e0"
      },
      "execution_count": 1160,
      "outputs": [
        {
          "output_type": "stream",
          "name": "stdout",
          "text": [
            "<class 'int'>\n",
            "<class 'int'>\n",
            "<class 'float'>\n",
            "<class 'float'>\n",
            "<class 'float'>\n",
            "<class 'float'>\n",
            "<class 'int'>\n"
          ]
        }
      ]
    },
    {
      "cell_type": "code",
      "source": [
        "x = 2.5\n",
        "y = 3.5\n",
        "print(type(x+y))"
      ],
      "metadata": {
        "colab": {
          "base_uri": "https://localhost:8080/"
        },
        "id": "F5a5X324gD_O",
        "outputId": "86a94c57-f882-4e50-b881-9e8d50633d51"
      },
      "execution_count": 1161,
      "outputs": [
        {
          "output_type": "stream",
          "name": "stdout",
          "text": [
            "<class 'float'>\n"
          ]
        }
      ]
    },
    {
      "cell_type": "code",
      "source": [
        "i = 20\n",
        "j = 5.5\n",
        "k = i+j\n",
        "print(type(k))"
      ],
      "metadata": {
        "colab": {
          "base_uri": "https://localhost:8080/"
        },
        "id": "vkhwy_J2gbxJ",
        "outputId": "bb629e83-1924-4868-aec2-fefa6c7762fb"
      },
      "execution_count": 1162,
      "outputs": [
        {
          "output_type": "stream",
          "name": "stdout",
          "text": [
            "<class 'float'>\n"
          ]
        }
      ]
    },
    {
      "cell_type": "code",
      "source": [
        "#int->float\n",
        "a = 49\n",
        "b = 7\n",
        "print(type(a/b))"
      ],
      "metadata": {
        "colab": {
          "base_uri": "https://localhost:8080/"
        },
        "id": "j7c5g0H1g114",
        "outputId": "5e87d882-f500-41d4-e48e-2f0ba96f79dc"
      },
      "execution_count": 1163,
      "outputs": [
        {
          "output_type": "stream",
          "name": "stdout",
          "text": [
            "<class 'float'>\n"
          ]
        }
      ]
    },
    {
      "cell_type": "code",
      "source": [
        "i = True\n",
        "print(type(i))\n",
        "j = 5\n",
        "print(type(i+j))"
      ],
      "metadata": {
        "colab": {
          "base_uri": "https://localhost:8080/"
        },
        "id": "gXXe7dK3h399",
        "outputId": "39681721-16b8-415b-fcce-20eeae387ec9"
      },
      "execution_count": 1164,
      "outputs": [
        {
          "output_type": "stream",
          "name": "stdout",
          "text": [
            "<class 'bool'>\n",
            "<class 'int'>\n"
          ]
        }
      ]
    },
    {
      "cell_type": "code",
      "source": [
        "m = 2.9\n",
        "n = False\n",
        "o = m - n\n",
        "print(type(o))\n"
      ],
      "metadata": {
        "colab": {
          "base_uri": "https://localhost:8080/"
        },
        "id": "AZDS3LYHioUt",
        "outputId": "17421a40-10ad-4ff2-d932-6dff7d93e336"
      },
      "execution_count": 1165,
      "outputs": [
        {
          "output_type": "stream",
          "name": "stdout",
          "text": [
            "<class 'float'>\n"
          ]
        }
      ]
    },
    {
      "cell_type": "code",
      "source": [
        "p = True\n",
        "q = False\n",
        "R= p+q\n",
        "print(type(R))\n",
        "\n",
        "S = 2.6\n",
        "T = False\n",
        "print(type(S*T))"
      ],
      "metadata": {
        "colab": {
          "base_uri": "https://localhost:8080/"
        },
        "id": "yNKJaerTi6wB",
        "outputId": "296a1cc9-f971-4949-e13c-f45abda2e2ec"
      },
      "execution_count": 1166,
      "outputs": [
        {
          "output_type": "stream",
          "name": "stdout",
          "text": [
            "<class 'int'>\n",
            "<class 'float'>\n"
          ]
        }
      ]
    },
    {
      "cell_type": "code",
      "source": [
        "num = 1.23\n",
        "print(type(1.23))\n",
        "add = int(num)\n",
        "print(type(add))\n",
        "num = 1.23\n",
        "print(type(num))\n",
        "\n"
      ],
      "metadata": {
        "colab": {
          "base_uri": "https://localhost:8080/"
        },
        "id": "TxjqCDeUjz6L",
        "outputId": "ff255417-5325-4ce6-f2f3-ff7df3abd6ff"
      },
      "execution_count": 1167,
      "outputs": [
        {
          "output_type": "stream",
          "name": "stdout",
          "text": [
            "<class 'float'>\n",
            "<class 'int'>\n",
            "<class 'float'>\n"
          ]
        }
      ]
    },
    {
      "cell_type": "code",
      "source": [
        "mul = float(add)\n",
        "print(type(mul))\n",
        ""
      ],
      "metadata": {
        "colab": {
          "base_uri": "https://localhost:8080/"
        },
        "id": "5InDc3rlmXC-",
        "outputId": "c65769fd-6213-4164-bb98-2390af324d98"
      },
      "execution_count": 1168,
      "outputs": [
        {
          "output_type": "stream",
          "name": "stdout",
          "text": [
            "<class 'float'>\n"
          ]
        }
      ]
    },
    {
      "cell_type": "code",
      "source": [
        "# str ->list\n",
        "num1 = \"sakshi\"\n",
        "print(type(num1))\n"
      ],
      "metadata": {
        "colab": {
          "base_uri": "https://localhost:8080/"
        },
        "id": "EZJpUqbwvRt1",
        "outputId": "c3919049-f71e-45e0-f2db-13c6e1c94a0b"
      },
      "execution_count": 1169,
      "outputs": [
        {
          "output_type": "stream",
          "name": "stdout",
          "text": [
            "<class 'str'>\n"
          ]
        }
      ]
    },
    {
      "cell_type": "code",
      "source": [
        "ex1 = print(type(ex1))\n",
        "list(num1)\n",
        "\n"
      ],
      "metadata": {
        "colab": {
          "base_uri": "https://localhost:8080/"
        },
        "id": "TqLq7SK5xX_i",
        "outputId": "98f91250-907d-4930-d0ef-ff567a7a086a"
      },
      "execution_count": 1170,
      "outputs": [
        {
          "output_type": "stream",
          "name": "stdout",
          "text": [
            "<class 'NoneType'>\n"
          ]
        },
        {
          "output_type": "execute_result",
          "data": {
            "text/plain": [
              "['s', 'a', 'k', 's', 'h', 'i']"
            ]
          },
          "metadata": {},
          "execution_count": 1170
        }
      ]
    },
    {
      "cell_type": "code",
      "source": [
        "#2) tuple->list\n",
        "num2 = (1,2,3,4,5)\n",
        "print(type(num2))"
      ],
      "metadata": {
        "colab": {
          "base_uri": "https://localhost:8080/"
        },
        "id": "mXZbGDngxfJM",
        "outputId": "a8b38495-054f-4f1b-f54d-3bc939bdeff7"
      },
      "execution_count": 1171,
      "outputs": [
        {
          "output_type": "stream",
          "name": "stdout",
          "text": [
            "<class 'tuple'>\n"
          ]
        }
      ]
    },
    {
      "cell_type": "code",
      "source": [
        "ex2 = list(num2)\n",
        "print(type(ex2))"
      ],
      "metadata": {
        "colab": {
          "base_uri": "https://localhost:8080/"
        },
        "id": "5KObS1otxvOU",
        "outputId": "58cdfbaf-766a-4f85-fda5-b4008b1652c6"
      },
      "execution_count": 1172,
      "outputs": [
        {
          "output_type": "stream",
          "name": "stdout",
          "text": [
            "<class 'list'>\n"
          ]
        }
      ]
    },
    {
      "cell_type": "code",
      "source": [
        "#3)set->list\n",
        "num3 = {1,2,3,4,5}\n",
        "print(type(num3))"
      ],
      "metadata": {
        "colab": {
          "base_uri": "https://localhost:8080/"
        },
        "id": "N1BnUV_ex5Ll",
        "outputId": "f34287aa-ff54-439f-b281-95f66313d347"
      },
      "execution_count": 1173,
      "outputs": [
        {
          "output_type": "stream",
          "name": "stdout",
          "text": [
            "<class 'set'>\n"
          ]
        }
      ]
    },
    {
      "cell_type": "code",
      "source": [
        "#4) dict ->list\n",
        "num4={}\n",
        "print(type(num4))"
      ],
      "metadata": {
        "colab": {
          "base_uri": "https://localhost:8080/"
        },
        "id": "thVcfRDDyQH7",
        "outputId": "6a930e04-5402-4d2f-f592-7e91b9f477eb"
      },
      "execution_count": 1174,
      "outputs": [
        {
          "output_type": "stream",
          "name": "stdout",
          "text": [
            "<class 'dict'>\n"
          ]
        }
      ]
    },
    {
      "cell_type": "code",
      "source": [
        "ex4 = list (num4)\n",
        "print(type(ex4))\n",
        ""
      ],
      "metadata": {
        "colab": {
          "base_uri": "https://localhost:8080/"
        },
        "id": "GqhduFVvyl_4",
        "outputId": "8350e728-66c9-4543-a59d-d2996ff71f91"
      },
      "execution_count": 1175,
      "outputs": [
        {
          "output_type": "stream",
          "name": "stdout",
          "text": [
            "<class 'list'>\n"
          ]
        }
      ]
    },
    {
      "cell_type": "code",
      "source": [
        "# tuple ->list\n",
        "num1 = \"sakshi\"\n",
        "print(type(num1))\n",
        "\n",
        "ex1 = print(type(ex1))\n",
        "list(num1)\n",
        "#2) tuple->list\n",
        "num2 = (1,2,3,4,5)\n",
        "print(type(num2))\n"
      ],
      "metadata": {
        "colab": {
          "base_uri": "https://localhost:8080/"
        },
        "id": "k6Ji5CTFy7Bj",
        "outputId": "b1b07193-b4a4-4ecc-e6ae-a685de165070"
      },
      "execution_count": 1176,
      "outputs": [
        {
          "output_type": "stream",
          "name": "stdout",
          "text": [
            "<class 'str'>\n",
            "<class 'NoneType'>\n",
            "<class 'tuple'>\n"
          ]
        }
      ]
    },
    {
      "cell_type": "code",
      "source": [
        "#1)list->dict\n",
        "num2 =[(\"a\",1),(\"b\",2),(\"c\",3)]\n",
        "ex2 = dict(num2)\n",
        "print(type(ex2))\n",
        "#2)tuple->dict\n",
        "num3 = (1,2,3,4,5)\n",
        "print(type(num3))\n",
        "ex3 = set(num3)\n",
        "print(type(ex3))\n",
        "\n",
        "#3)set->dict\n",
        "num4 = {1,2,3,4,5}\n",
        "print(type(num4))\n",
        "\n",
        "ex4 = tuple(num4)\n",
        "print(type(ex4))\n",
        "\n",
        "#3)set->dict\n",
        "num = {(\"Roo_number\",101),(\"Section\",C)}\n",
        "print(type(num4))\n",
        "\n",
        "ex4 = dict(num)\n",
        "print(type(ex4))"
      ],
      "metadata": {
        "colab": {
          "base_uri": "https://localhost:8080/"
        },
        "id": "J1lcle1O1dmi",
        "outputId": "16b0ed7e-5605-4903-883f-515381161a15"
      },
      "execution_count": 1177,
      "outputs": [
        {
          "output_type": "stream",
          "name": "stdout",
          "text": [
            "<class 'dict'>\n",
            "<class 'tuple'>\n",
            "<class 'set'>\n",
            "<class 'set'>\n",
            "<class 'tuple'>\n",
            "<class 'set'>\n",
            "<class 'dict'>\n"
          ]
        }
      ]
    },
    {
      "cell_type": "code",
      "source": [
        "A = 10\n",
        "B = 20\n",
        "print(\"Before Swapping\")\n",
        "print(\"A=\",A,\"B=\",B)\n",
        "print(\"===================\")\n",
        "print(\"After Swapping\")\n",
        "A,B = B,A\n",
        "print(\"A=\",A,\"B=\",B)"
      ],
      "metadata": {
        "id": "7A-I5sXu24M6",
        "outputId": "5e13f030-bc74-4e9c-9df2-af6c04de3049",
        "colab": {
          "base_uri": "https://localhost:8080/"
        }
      },
      "execution_count": 1178,
      "outputs": [
        {
          "output_type": "stream",
          "name": "stdout",
          "text": [
            "Before Swapping\n",
            "A= 10 B= 20\n",
            "===================\n",
            "After Swapping\n",
            "A= 20 B= 10\n"
          ]
        }
      ]
    },
    {
      "cell_type": "code",
      "source": [
        "A =10\n",
        "B =20\n",
        "print(\"Before Swapping\")\n",
        "print(\"A=\",A,\"B=\",B)\n",
        "\n",
        "print(\"After Swapping\")\n",
        "temp = A\n",
        "A = B\n",
        "B = temp\n",
        "print(\"A=\",A,\"B=\",B)"
      ],
      "metadata": {
        "id": "yBQc8CQa-vHS",
        "outputId": "a605d90c-dabf-4857-8d51-d514c8bda593",
        "colab": {
          "base_uri": "https://localhost:8080/"
        }
      },
      "execution_count": 1179,
      "outputs": [
        {
          "output_type": "stream",
          "name": "stdout",
          "text": [
            "Before Swapping\n",
            "A= 10 B= 20\n",
            "After Swapping\n",
            "A= 20 B= 10\n"
          ]
        }
      ]
    },
    {
      "cell_type": "code",
      "source": [
        "X = 10\n",
        "Y = 20\n",
        "print(\"Before Swapping\")\n",
        "print(\"X=\",X,\"Y=\",Y)\n",
        "print(\"After Swapping\")\n",
        "X = X+Y\n",
        "y = x-y\n",
        "X = X-Y\n",
        "print(\"X=\",X,\"Y=\",y)"
      ],
      "metadata": {
        "id": "eJskNvaGB51-",
        "outputId": "05c5ae43-ac35-474d-c0a1-9c052ab59b5e",
        "colab": {
          "base_uri": "https://localhost:8080/"
        }
      },
      "execution_count": 1180,
      "outputs": [
        {
          "output_type": "stream",
          "name": "stdout",
          "text": [
            "Before Swapping\n",
            "X= 10 Y= 20\n",
            "After Swapping\n",
            "X= 10 Y= -1.0\n"
          ]
        }
      ]
    }
  ]
}