{
  "nbformat": 4,
  "nbformat_minor": 0,
  "metadata": {
    "colab": {
      "provenance": []
    },
    "kernelspec": {
      "name": "python3",
      "display_name": "Python 3"
    },
    "language_info": {
      "name": "python"
    }
  },
  "cells": [
    {
      "cell_type": "code",
      "source": [
        "i = input(\"enter the value :i\")\n",
        "j = input(\"enter the value :j\")\n",
        "print(i +\" \" +j)\n",
        "\n"
      ],
      "metadata": {
        "colab": {
          "base_uri": "https://localhost:8080/"
        },
        "id": "AMGaRtr-1UcK",
        "outputId": "dfc93da8-2d39-46cc-b5d4-d6e7a1bfb692"
      },
      "execution_count": null,
      "outputs": [
        {
          "output_type": "stream",
          "name": "stdout",
          "text": [
            "enter the value :iBK\n",
            "enter the value :jcollege\n",
            "BK college\n"
          ]
        }
      ]
    },
    {
      "cell_type": "code",
      "source": [
        "x = 100\n",
        "y = 50\n",
        "print(f'Addition of {x} and {y} value is = {x+y}')\n",
        "print(f'Division of {x} and {y} value is = {x/y}')"
      ],
      "metadata": {
        "colab": {
          "base_uri": "https://localhost:8080/"
        },
        "id": "GmDZydXs4Lqa",
        "outputId": "79183042-7207-4191-96fd-32b8ca776869"
      },
      "execution_count": null,
      "outputs": [
        {
          "output_type": "stream",
          "name": "stdout",
          "text": [
            "Addition of 100 and 50 value is = 150\n",
            "Division of 100 and 50 value is = 2.0\n"
          ]
        }
      ]
    },
    {
      "cell_type": "code",
      "source": [
        "name = \"shrushti\"\n",
        "course = \"MCA\"\n",
        "year = 2022\n",
        "Department = \"BCA\"\n",
        "pincode = 592216\n",
        "print(f\"Hi,Good morning My name is {name}, i have complited {course} in the {year}, corrently i'm wirking in KLE BK {Department}, college Chikkodi {pincode}\")\n"
      ],
      "metadata": {
        "colab": {
          "base_uri": "https://localhost:8080/"
        },
        "id": "sHQMc-Kh5Pqa",
        "outputId": "ee7014f9-52da-4e01-8055-52264373c320"
      },
      "execution_count": null,
      "outputs": [
        {
          "output_type": "stream",
          "name": "stdout",
          "text": [
            "Hi,Good morning My name is shrushti, i have complited MCA in the 2022, corrently i'm wirking in KLE BK BCA, college Chikkodi 592216\n"
          ]
        }
      ]
    },
    {
      "cell_type": "code",
      "source": [
        "x = 100\n",
        "y = 50\n",
        "print(f'addition of{x} and {y} value is = {x+y}')\n",
        "print(f'substraction of{x} and {y} value is = {x-y}')\n",
        "print(f'multiplication of{x} and {y} value is = {x*y}')\n",
        "print(f'division of{x} and {y} value is = {x/y}')"
      ],
      "metadata": {
        "colab": {
          "base_uri": "https://localhost:8080/"
        },
        "id": "cftsZ0oy965L",
        "outputId": "292ecf62-9bde-4c36-8ee1-557d8a31d185"
      },
      "execution_count": null,
      "outputs": [
        {
          "output_type": "stream",
          "name": "stdout",
          "text": [
            "addition of100 and 50 value is = 150\n",
            "substraction of100 and 50 value is = 50\n",
            "multiplication of100 and 50 value is = 5000\n",
            "division of100 and 50 value is = 2.0\n"
          ]
        }
      ]
    },
    {
      "cell_type": "code",
      "source": [
        "Num1 = int(input(\"enter the value :\"))\n",
        "Num2 = int(input(\"enter the value :\"))\n",
        "print(\"Addision of two number is :\" ,Num1 + Num2)\n",
        "print()\n",
        "print(\"substraction of two number is : \" ,Num1 - Num2)\n",
        "print()\n",
        "print(\"Multiplication of two number is :\" ,Num1 * Num2 )\n",
        "print()\n",
        "print(\"division of two number is :\" ,Num1 / Num2)\n",
        "print()\n",
        "print(\"Floor Division of two is :\" ,Num1 // Num2)\n",
        "print()\n",
        "print(\"Modulus of two numbers is : \" ,Num1 % Num2)"
      ],
      "metadata": {
        "colab": {
          "base_uri": "https://localhost:8080/"
        },
        "id": "aRUKt2jBB1Ly",
        "outputId": "7eed834d-f689-45ef-b6cb-0dd510c4078b"
      },
      "execution_count": null,
      "outputs": [
        {
          "output_type": "stream",
          "name": "stdout",
          "text": [
            "enter the value :10\n",
            "enter the value :5\n",
            "Addision of two number is : 15\n",
            "\n",
            "substraction of two number is :  5\n",
            "\n",
            "Multiplication of two number is : 50\n",
            "\n",
            "division of two number is : 2.0\n",
            "\n",
            "Floor Division of two is : 2\n",
            "\n",
            "Modulus of two numbers is :  0\n"
          ]
        }
      ]
    },
    {
      "cell_type": "code",
      "source": [
        "number1 = 35\n",
        "number2 = 40\n",
        "print(number1>number2)\n",
        "print(number1<number2)\n",
        "print(35==number2)\n",
        "print(number1!=number2)\n",
        "print(number1>=40)\n",
        "print(number1<=number2)"
      ],
      "metadata": {
        "colab": {
          "base_uri": "https://localhost:8080/"
        },
        "id": "wGUJOsXkHSgx",
        "outputId": "cffc025e-5ab1-476d-cb32-c8ae9f6b554d"
      },
      "execution_count": null,
      "outputs": [
        {
          "output_type": "stream",
          "name": "stdout",
          "text": [
            "False\n",
            "True\n",
            "False\n",
            "True\n",
            "False\n",
            "True\n"
          ]
        }
      ]
    },
    {
      "cell_type": "code",
      "source": [
        " a = 20\n",
        "b = 35\n",
        "c = 13\n",
        "d = 10\n",
        "print( a == b and c < d)\n",
        "print( 13 != c and d < c)\n",
        "print( b > a and d<c )\n",
        "print(20 != a and c==b)\n",
        "print(a<b or b==c)\n",
        "print((not(a < b))and 100 < 200)\n",
        "print(not(d ==10))\n",
        "print(35 != d or (not(20==a)))\n",
        "print(not(c<=b and (not(a<= c))))"
      ],
      "metadata": {
        "colab": {
          "base_uri": "https://localhost:8080/"
        },
        "id": "OzryxUjiOUnC",
        "outputId": "82667f18-0a7d-4d64-f41b-aed9e302fcd0"
      },
      "execution_count": null,
      "outputs": [
        {
          "output_type": "stream",
          "name": "stdout",
          "text": [
            "False\n",
            "False\n",
            "True\n",
            "False\n",
            "True\n",
            "False\n",
            "False\n",
            "True\n",
            "False\n"
          ]
        }
      ]
    },
    {
      "cell_type": "code",
      "source": [
        "x = 10\n",
        "print(x)\n",
        "x -= 2\n",
        "print(x)\n",
        "x *= 5\n",
        "print(x)\n",
        "x //=3\n",
        "print(x)\n",
        "x **=2\n",
        "print (x)\n",
        "x %= 4\n",
        "print(x)\n",
        "x+=9\n",
        "print(x)\n",
        "x /=3\n",
        "print(x)\n"
      ],
      "metadata": {
        "colab": {
          "base_uri": "https://localhost:8080/"
        },
        "id": "dcmddoZjR6ht",
        "outputId": "c496b196-3c0d-412a-b11b-fde9b289b7d6"
      },
      "execution_count": null,
      "outputs": [
        {
          "output_type": "stream",
          "name": "stdout",
          "text": [
            "10\n",
            "8\n",
            "40\n",
            "13\n",
            "169\n",
            "1\n",
            "10\n",
            "3.3333333333333335\n"
          ]
        }
      ]
    },
    {
      "cell_type": "code",
      "source": [
        "Num = 9\n",
        "if Num < 10 :\n",
        "  print(\"10 is a greater than 9\")\n"
      ],
      "metadata": {
        "colab": {
          "base_uri": "https://localhost:8080/"
        },
        "id": "m_O_JIdAXVBJ",
        "outputId": "dc66d9f3-b40c-4448-f550-4ac0721d42e2"
      },
      "execution_count": null,
      "outputs": [
        {
          "output_type": "stream",
          "name": "stdout",
          "text": [
            "10 is a greater than 9\n"
          ]
        }
      ]
    },
    {
      "cell_type": "code",
      "source": [
        "User_id = \"20MCA103\"\n",
        "Password = 1234\n",
        "if User_id == \"20MCA103\" and Password == 1234:\n",
        "  print(\"Login Successfully\")\n"
      ],
      "metadata": {
        "colab": {
          "base_uri": "https://localhost:8080/"
        },
        "id": "1wM5mFLiu0zB",
        "outputId": "0ec21669-0577-43e1-9521-cfd17d3a3484"
      },
      "execution_count": null,
      "outputs": [
        {
          "output_type": "stream",
          "name": "stdout",
          "text": [
            "Login Successfully\n"
          ]
        }
      ]
    },
    {
      "cell_type": "code",
      "source": [
        "Ex = 59\n",
        "if Ex == 58 :\n",
        "  print(\"are you understand\")"
      ],
      "metadata": {
        "id": "AW7iPozgvs7Z"
      },
      "execution_count": null,
      "outputs": []
    },
    {
      "cell_type": "code",
      "source": [
        "Name  = \"Shrushti\"\n",
        "if Name <= \"BK\" :\n",
        "  print(\"My name is Shrushti\")\n"
      ],
      "metadata": {
        "id": "CS65xTBCwLN4"
      },
      "execution_count": null,
      "outputs": []
    },
    {
      "cell_type": "code",
      "source": [
        "Num = int(input(\"enter a number value\"))\n",
        "if Num > 0 :\n",
        "  print(\"positive number\")\n",
        "else :\n",
        "    print(\"nagetive number\")"
      ],
      "metadata": {
        "colab": {
          "base_uri": "https://localhost:8080/"
        },
        "id": "mSD4Id0-w37R",
        "outputId": "76bcc893-0b21-41de-cd20-5c08b5d5d5ea"
      },
      "execution_count": null,
      "outputs": [
        {
          "output_type": "stream",
          "name": "stdout",
          "text": [
            "enter a number value5\n",
            "positive number\n"
          ]
        }
      ]
    },
    {
      "cell_type": "code",
      "source": [
        "num = int(input(\"enter a number value :\"))\n",
        "if num % 2 == 0:\n",
        "  print(\"even number\")\n",
        "else :\n",
        "  print(\"odd number\")\n",
        "\n"
      ],
      "metadata": {
        "colab": {
          "base_uri": "https://localhost:8080/"
        },
        "id": "63g8ZDgNzbqU",
        "outputId": "6f2eb034-9d85-4d01-b9e7-4dd43f4588e5"
      },
      "execution_count": null,
      "outputs": [
        {
          "output_type": "stream",
          "name": "stdout",
          "text": [
            "enter a number value :45\n",
            "odd number\n"
          ]
        }
      ]
    },
    {
      "cell_type": "code",
      "source": [
        "year = int(input(\"enter a year value :\"))\n",
        "if year % 4 == 0:\n",
        "  print(\"Leap year\")\n",
        "else :\n",
        "  print(\"Not Leap yesr\")\n"
      ],
      "metadata": {
        "colab": {
          "base_uri": "https://localhost:8080/"
        },
        "id": "ZAioYlaX2Lw4",
        "outputId": "4b50541a-1766-4550-fe6a-81dcec157d4f"
      },
      "execution_count": null,
      "outputs": [
        {
          "output_type": "stream",
          "name": "stdout",
          "text": [
            "enter a year value :2025\n",
            "Not Leap yesr\n"
          ]
        }
      ]
    },
    {
      "cell_type": "code",
      "source": [
        "Age = int(input(\"enter a year value :\"))\n",
        "if Age >= 18:\n",
        "  print(\"they are eligible for voting\")\n",
        "else :\n",
        "  print(\"they have to wait\")"
      ],
      "metadata": {
        "colab": {
          "base_uri": "https://localhost:8080/"
        },
        "id": "a3rX5VIX5Boa",
        "outputId": "1dddbe25-d85d-4a75-9022-cff21b91119e"
      },
      "execution_count": null,
      "outputs": [
        {
          "output_type": "stream",
          "name": "stdout",
          "text": [
            "enter a year value :24\n",
            "they are eligible for voting\n"
          ]
        }
      ]
    },
    {
      "cell_type": "code",
      "source": [
        "User_id = \"12MCA345\"\n",
        "Password = 121234\n",
        "if User_id == \"12MCA345\" and Password == 121234:\n",
        "  print(\"Login Successfully\")\n",
        "else :\n",
        "  print(\"Login Failed\")"
      ],
      "metadata": {
        "colab": {
          "base_uri": "https://localhost:8080/"
        },
        "id": "NKe2gT0L6LO6",
        "outputId": "4687708a-10ac-42e8-a24d-9f6607024b8f"
      },
      "execution_count": null,
      "outputs": [
        {
          "output_type": "stream",
          "name": "stdout",
          "text": [
            "Login Successfully\n"
          ]
        }
      ]
    },
    {
      "cell_type": "code",
      "source": [
        "user_id = input(\"enter user_id value\")\n",
        "password = int(input(\"enter password value :\"))\n",
        "if user_id == \"college\" and password ==1234 :\n",
        "  print(\"login successfully\")\n",
        "else :\n",
        "  print(\"Invalid credentials\")"
      ],
      "metadata": {
        "colab": {
          "base_uri": "https://localhost:8080/"
        },
        "id": "dfFVU2hP62VR",
        "outputId": "3724d200-7014-4d7c-f547-f508a4967a60"
      },
      "execution_count": null,
      "outputs": [
        {
          "output_type": "stream",
          "name": "stdout",
          "text": [
            "enter user_id valuecollege\n",
            "enter password value :1234\n",
            "login successfully\n"
          ]
        }
      ]
    },
    {
      "cell_type": "code",
      "source": [
        "marks =int(input(\"enter the marks :\"))\n",
        "if marks >= 85 :\n",
        "  print(\"distinction\")\n",
        "elif marks >= 70 :\n",
        "  print(\"frist class\")\n",
        "elif marks >=55 :\n",
        "  print(\"second clas\")\n",
        "elif marks >=35 :\n",
        "  print(\"just pass\")\n",
        "else :\n",
        "  print(\"fail better luck next time\")"
      ],
      "metadata": {
        "colab": {
          "base_uri": "https://localhost:8080/"
        },
        "id": "EDp3OY8B_3yi",
        "outputId": "73ff8e6e-1f3b-4c7f-c8c3-2a4867e30393"
      },
      "execution_count": null,
      "outputs": [
        {
          "output_type": "stream",
          "name": "stdout",
          "text": [
            "enter the marks :88\n",
            "distinction\n"
          ]
        }
      ]
    },
    {
      "cell_type": "code",
      "source": [
        "prize = input(\"enter the medal :\")\n",
        "if prize == \"Gold\" :\n",
        "  print(\"first prize\")\n",
        "elif prize == \"silver\" :\n",
        "  print(\"second prize\")\n",
        "elif prize == \"bronze\" :\n",
        "  print(\"third prize\")\n",
        "elif prize == \"certificatr\" :\n",
        "  print(\"samadankar bahuman\")\n",
        "else :\n",
        "  print(\"better luck next chance\")"
      ],
      "metadata": {
        "colab": {
          "base_uri": "https://localhost:8080/"
        },
        "id": "KE7wj3tsCs0L",
        "outputId": "9ec0a9a4-338f-430d-b176-d3b8f27a4693"
      },
      "execution_count": null,
      "outputs": [
        {
          "output_type": "stream",
          "name": "stdout",
          "text": [
            "enter the medal :silver\n",
            "second prize\n"
          ]
        }
      ]
    },
    {
      "cell_type": "code",
      "source": [
        "signels = input(\"enter the signel :\")\n",
        "if signels == \"red\" :\n",
        "  print(\"stop\")\n",
        "elif signels == \"yellow\" :\n",
        "  print(\"ready\")\n",
        "elif signels == \"green\" :\n",
        "  print(\"go\")"
      ],
      "metadata": {
        "colab": {
          "base_uri": "https://localhost:8080/"
        },
        "id": "5arhv1vwFOVj",
        "outputId": "b9f35173-13fd-4cf6-af63-96c6bdccc8ee"
      },
      "execution_count": null,
      "outputs": [
        {
          "output_type": "stream",
          "name": "stdout",
          "text": [
            "enter the signel :red\n",
            "stop\n"
          ]
        }
      ]
    },
    {
      "cell_type": "code",
      "source": [
        "num = int(input(\"enter the value\"))\n",
        "if num > 0 :\n",
        "  if num == 0 :\n",
        "    print(\"zero value\")\n",
        "  else :\n",
        "    print(\"positive number\")\n",
        "else :\n",
        "    print(\"nagetive number\")"
      ],
      "metadata": {
        "colab": {
          "base_uri": "https://localhost:8080/"
        },
        "id": "CfFE-FRbZsSN",
        "outputId": "2124f97c-95ef-4194-f0e2-909d02dc57bb"
      },
      "execution_count": null,
      "outputs": [
        {
          "output_type": "stream",
          "name": "stdout",
          "text": [
            "enter the value-8\n",
            "nagetive number\n"
          ]
        }
      ]
    },
    {
      "cell_type": "code",
      "source": [
        "a,b,c = 25,35,15\n",
        "if a >b :\n",
        "  if a > c :\n",
        "    print(\"a is greatest number\")\n",
        "  else :\n",
        "    print(\"c is greatest number\")\n",
        "else :\n",
        "  if b > c :\n",
        "    print(\"b is greatest number\")\n",
        "  else :\n",
        "    print(\"c is greatest number\")"
      ],
      "metadata": {
        "colab": {
          "base_uri": "https://localhost:8080/"
        },
        "id": "P_uwbHRrbPKu",
        "outputId": "eab6b24e-1b84-4e14-b7e6-5fd923189934"
      },
      "execution_count": null,
      "outputs": [
        {
          "output_type": "stream",
          "name": "stdout",
          "text": [
            "b is greatest number\n"
          ]
        }
      ]
    },
    {
      "cell_type": "code",
      "source": [
        "a,b,c = 25,35,15\n",
        "if a >b :\n",
        "  if a > c :\n",
        "    print(\"a is smallest number\" ,a)\n",
        "  else :\n",
        "    print(\"c is smallest number\" ,c)\n",
        "else :\n",
        "  if b > c :\n",
        "    print(\"b is smallest number\" ,b)\n",
        "  else :\n",
        "    print(\"c is smallest number\" ,c)"
      ],
      "metadata": {
        "colab": {
          "base_uri": "https://localhost:8080/"
        },
        "id": "QLZQF5fxcLd4",
        "outputId": "8273a06b-d039-4d59-ee21-eb91aeae0b60"
      },
      "execution_count": null,
      "outputs": [
        {
          "output_type": "stream",
          "name": "stdout",
          "text": [
            "b is smallest number 35\n"
          ]
        }
      ]
    },
    {
      "cell_type": "code",
      "source": [
        "x, y = 10, 20\n",
        "option = input(\"enter your choice option :\")\n",
        "match option :\n",
        "  case '+' :\n",
        "    print(\"sum of values\" , x + y)\n",
        "  case '-' :\n",
        "    print(\"substraction of values\" , x - y)\n",
        "  case '*' :\n",
        "    print(\"multiplication of values\" , x * y)\n",
        "  case '/' :\n",
        "    print(\"division of values\" , x / y)\n",
        "  case '%' :\n",
        "      print(\"modulus of values\" , x % y)\n",
        "  case '!=' :\n",
        "        print(\"not eqale to of value\",x!=y )\n",
        "  case _ :\n",
        "    print(\"invalide operator\")\n",
        "\n"
      ],
      "metadata": {
        "colab": {
          "base_uri": "https://localhost:8080/"
        },
        "id": "pWRgNAY-cmf9",
        "outputId": "6e9575cf-ccbe-4170-8241-9479abe7c32e"
      },
      "execution_count": null,
      "outputs": [
        {
          "output_type": "stream",
          "name": "stdout",
          "text": [
            "enter your choice option :!=\n",
            "not eqale to of value True\n"
          ]
        }
      ]
    },
    {
      "cell_type": "code",
      "source": [
        "option = input(\"enter the day number: \")\n",
        "match option:\n",
        "    case '1':\n",
        "        print('monday')\n",
        "    case '2':\n",
        "        print('tuesday')\n",
        "    case '3':\n",
        "        print('wednesday')\n",
        "    case '4':\n",
        "        print('thursday')\n",
        "    case '5':\n",
        "        print('friday')\n",
        "    case '6':\n",
        "        print('saturday')\n",
        "    case '7':\n",
        "        print('sunday')\n",
        "    case _:\n",
        "        print('holiday')"
      ],
      "metadata": {
        "colab": {
          "base_uri": "https://localhost:8080/"
        },
        "id": "KTNxPAxSiQFW",
        "outputId": "48c56f85-2fd1-440b-85c6-261ae7e9a231"
      },
      "execution_count": null,
      "outputs": [
        {
          "output_type": "stream",
          "name": "stdout",
          "text": [
            "enter the day number: 5\n",
            "friday\n"
          ]
        }
      ]
    },
    {
      "cell_type": "code",
      "source": [
        "option = input(\"enter the month number: \")\n",
        "match option:\n",
        "    case '1':\n",
        "        print('juanaury')\n",
        "    case '2':\n",
        "        print('february')\n",
        "    case '3':\n",
        "        print('march')\n",
        "    case '4':\n",
        "        print('april')\n",
        "    case '5':\n",
        "        print('may')\n",
        "    case '6':\n",
        "        print('june')\n",
        "    case '7':\n",
        "        print('july')\n",
        "    case '8':\n",
        "        print('august')\n",
        "    case '9' :\n",
        "        print('september')\n",
        "    case '10' :\n",
        "        print('october')\n",
        "    case '11' :\n",
        "        print('november')\n",
        "    case '12' :\n",
        "        print('december')\n"
      ],
      "metadata": {
        "colab": {
          "base_uri": "https://localhost:8080/"
        },
        "id": "dXmOaMKrlr4n",
        "outputId": "39df9384-c7b3-4e70-990d-40f7049cb92a"
      },
      "execution_count": null,
      "outputs": [
        {
          "output_type": "stream",
          "name": "stdout",
          "text": [
            "enter the month number: 11\n",
            "november\n"
          ]
        }
      ]
    },
    {
      "cell_type": "code",
      "source": [
        "i =1\n",
        "while i <= 60 :\n",
        "  print(i,end= \" \")\n",
        "  i +=1"
      ],
      "metadata": {
        "colab": {
          "base_uri": "https://localhost:8080/"
        },
        "id": "6hBtpcagnijX",
        "outputId": "b4bc1440-18a6-4b7f-d0a4-dcd5b80223ca"
      },
      "execution_count": null,
      "outputs": [
        {
          "output_type": "stream",
          "name": "stdout",
          "text": [
            "1 2 3 4 5 6 7 8 9 10 11 12 13 14 15 16 17 18 19 20 21 22 23 24 25 26 27 28 29 30 31 32 33 34 35 36 37 38 39 40 41 42 43 44 45 46 47 48 49 50 51 52 53 54 55 56 57 58 59 60 "
          ]
        }
      ]
    },
    {
      "cell_type": "code",
      "source": [
        "i = 1\n",
        "add =0\n",
        "while i<=10 :\n",
        "   add = add+i\n",
        "   i = i+1\n",
        "print(\"sum of  N Natural number is:\" , add)\n"
      ],
      "metadata": {
        "colab": {
          "base_uri": "https://localhost:8080/"
        },
        "id": "MaUg6Dj_rh7f",
        "outputId": "f18a9406-915d-4182-9815-50e36f316c08"
      },
      "execution_count": null,
      "outputs": [
        {
          "output_type": "stream",
          "name": "stdout",
          "text": [
            "sum of  N Natural number is: 55\n"
          ]
        }
      ]
    },
    {
      "cell_type": "code",
      "source": [
        "num = 5\n",
        "i = 1\n",
        "while i<=10 :\n",
        "    print(\"5 *\",i,\"=\",num*i)\n",
        "    i = i+1"
      ],
      "metadata": {
        "colab": {
          "base_uri": "https://localhost:8080/"
        },
        "id": "YwdI4W2Ptt8g",
        "outputId": "b6dec715-f8d5-4663-97b6-60454658f619"
      },
      "execution_count": null,
      "outputs": [
        {
          "output_type": "stream",
          "name": "stdout",
          "text": [
            "5 * 1 = 5\n",
            "5 * 2 = 10\n",
            "5 * 3 = 15\n",
            "5 * 4 = 20\n",
            "5 * 5 = 25\n",
            "5 * 6 = 30\n",
            "5 * 7 = 35\n",
            "5 * 8 = 40\n",
            "5 * 9 = 45\n",
            "5 * 10 = 50\n"
          ]
        }
      ]
    },
    {
      "cell_type": "code",
      "source": [
        "num = 18\n",
        "i = 1\n",
        "while i<=10 :\n",
        "  print(\"18*\",i,\"=\",num*i)\n",
        "  i = i+1"
      ],
      "metadata": {
        "colab": {
          "base_uri": "https://localhost:8080/"
        },
        "id": "yZtCzfH5waiA",
        "outputId": "96f47eda-9fad-4fc1-89d0-afd222a2536f"
      },
      "execution_count": null,
      "outputs": [
        {
          "output_type": "stream",
          "name": "stdout",
          "text": [
            "18* 1 = 18\n",
            "18* 2 = 36\n",
            "18* 3 = 54\n",
            "18* 4 = 72\n",
            "18* 5 = 90\n",
            "18* 6 = 108\n",
            "18* 7 = 126\n",
            "18* 8 = 144\n",
            "18* 9 = 162\n",
            "18* 10 = 180\n"
          ]
        }
      ]
    },
    {
      "cell_type": "code",
      "source": [
        "num = 153\n",
        "rem = 0\n",
        "sum = 0\n",
        "temp = num\n",
        "while num != 0 :\n",
        "  rem = num % 10\n",
        "  sum = sum + rem * rem * rem\n",
        "  num = num // 10\n",
        "if temp == sum :\n",
        "  print(\"armstrong number\")\n",
        "else :\n",
        "  print(\"not armstrong number\")\n"
      ],
      "metadata": {
        "colab": {
          "base_uri": "https://localhost:8080/"
        },
        "id": "TyFt7Hk_xebI",
        "outputId": "c2a88023-a610-4ad0-c20c-861849c5b885"
      },
      "execution_count": null,
      "outputs": [
        {
          "output_type": "stream",
          "name": "stdout",
          "text": [
            "armstrong number\n"
          ]
        }
      ]
    },
    {
      "cell_type": "code",
      "source": [
        "num = 234\n",
        "rem = 0\n",
        "sum = 0\n",
        "temp = num\n",
        "while num != 0 :\n",
        "  rem = num % 10\n",
        "  sum = sum + rem * rem * rem\n",
        "  num = num // 10\n",
        "if temp == sum :\n",
        "  print(\"armstrong number\")\n",
        "else :\n",
        "  print(\"not armstrong number\")\n"
      ],
      "metadata": {
        "colab": {
          "base_uri": "https://localhost:8080/"
        },
        "id": "tuBiN3oG3hvw",
        "outputId": "e6bb45c9-3d3e-4dd1-a8a3-78c9a70d83e6"
      },
      "execution_count": null,
      "outputs": [
        {
          "output_type": "stream",
          "name": "stdout",
          "text": [
            "not armstrong number\n"
          ]
        }
      ]
    },
    {
      "cell_type": "code",
      "source": [
        "num = 112\n",
        "rem = 0\n",
        "sum = 0\n",
        "temp = num\n",
        "while num != 0 :\n",
        "  rem = num % 10\n",
        "  sum = sum + rem * rem * rem\n",
        "  num = num // 10\n",
        "if temp == sum :\n",
        "  print(\"armstrong number\")\n",
        "else :\n",
        "  print(\"not armstrong number\")\n"
      ],
      "metadata": {
        "colab": {
          "base_uri": "https://localhost:8080/"
        },
        "id": "7jd4UyHf34E4",
        "outputId": "8338c978-dd18-46b3-8077-eb25ba54c48c"
      },
      "execution_count": null,
      "outputs": [
        {
          "output_type": "stream",
          "name": "stdout",
          "text": [
            "not armstrong number\n"
          ]
        }
      ]
    },
    {
      "cell_type": "code",
      "source": [
        "num = 12345\n",
        "rem = 0\n",
        "rev = 0\n",
        "temp = num\n",
        "while num > 0 :\n",
        "  rev  = num % 10\n",
        "  rev  = rev * 10 +rem\n",
        "  num = num // 10\n",
        "print(\"reverse number is:\" ,rev)\n",
        "\n"
      ],
      "metadata": {
        "colab": {
          "base_uri": "https://localhost:8080/"
        },
        "id": "Dbg3VNSs5A3Y",
        "outputId": "3c799ea0-13d3-44a8-f327-57d000177d68"
      },
      "execution_count": null,
      "outputs": [
        {
          "output_type": "stream",
          "name": "stdout",
          "text": [
            "reverse number is: 10\n"
          ]
        }
      ]
    },
    {
      "cell_type": "code",
      "source": [
        "num = 12321\n",
        "rem = 0\n",
        "rev = 0\n",
        "temp = num\n",
        "while num > 0 :\n",
        "  rev  = num % 10\n",
        "  rev  = rev * 10 +rem\n",
        "  num = num // 10\n",
        "  if temp == rev :\n",
        "    print(\"palindrome number\")\n",
        "  else :\n",
        "    print(\"not palindrome number\")\n"
      ],
      "metadata": {
        "colab": {
          "base_uri": "https://localhost:8080/"
        },
        "id": "d8NX3C1I8aRY",
        "outputId": "14f4f44d-1e90-4b57-da62-7ae22ddeadd8"
      },
      "execution_count": null,
      "outputs": [
        {
          "output_type": "stream",
          "name": "stdout",
          "text": [
            "not palindrome number\n",
            "not palindrome number\n",
            "not palindrome number\n",
            "not palindrome number\n",
            "not palindrome number\n"
          ]
        }
      ]
    },
    {
      "cell_type": "code",
      "source": [
        " i = 1\n",
        " while i <= 100 :\n",
        "  print(i, end = \" \")\n",
        "  i+=2"
      ],
      "metadata": {
        "colab": {
          "base_uri": "https://localhost:8080/"
        },
        "id": "i2rDC8Av9JVx",
        "outputId": "b4266a88-7fbe-43e0-f7ff-fa01eeb74675"
      },
      "execution_count": null,
      "outputs": [
        {
          "output_type": "stream",
          "name": "stdout",
          "text": [
            "1 3 5 7 9 11 13 15 17 19 21 23 25 27 29 31 33 35 37 39 41 43 45 47 49 51 53 55 57 59 61 63 65 67 69 71 73 75 77 79 81 83 85 87 89 91 93 95 97 99 "
          ]
        }
      ]
    },
    {
      "cell_type": "code",
      "source": [
        "num, a, b = 10, 0, 1\n",
        "i = 0\n",
        "while i <= num :\n",
        "  print(a, end = \" \")\n",
        "  a, b = b, a+b\n",
        "  i+=1"
      ],
      "metadata": {
        "colab": {
          "base_uri": "https://localhost:8080/"
        },
        "id": "6eKSf2hc97TB",
        "outputId": "c404bfbb-a79a-4c01-9655-a068f98cb07e"
      },
      "execution_count": null,
      "outputs": [
        {
          "output_type": "stream",
          "name": "stdout",
          "text": [
            "0 1 1 2 3 5 8 13 21 34 55 "
          ]
        }
      ]
    },
    {
      "cell_type": "code",
      "source": [
        "num = 10\n",
        "while i <= 1280 :\n",
        "  print(i,end=\" \")\n",
        "  i*=2"
      ],
      "metadata": {
        "colab": {
          "base_uri": "https://localhost:8080/"
        },
        "id": "Cdxh-TFkAwVB",
        "outputId": "6a14f01f-5a59-4ae8-a48e-0432ef51529a"
      },
      "execution_count": null,
      "outputs": [
        {
          "output_type": "stream",
          "name": "stdout",
          "text": [
            "1 2 4 8 16 32 64 128 256 512 1024 "
          ]
        }
      ]
    },
    {
      "cell_type": "code",
      "source": [
        "colours = ['blue', 'red','pink','black']\n",
        "print(type(colours))\n",
        "for i in colours:\n",
        "  print(i)"
      ],
      "metadata": {
        "colab": {
          "base_uri": "https://localhost:8080/"
        },
        "id": "sgta--9aH0tS",
        "outputId": "41f60288-b83b-4331-e5a9-3c4cb93ee564"
      },
      "execution_count": null,
      "outputs": [
        {
          "output_type": "stream",
          "name": "stdout",
          "text": [
            "<class 'list'>\n",
            "blue\n",
            "red\n",
            "pink\n",
            "black\n"
          ]
        }
      ]
    },
    {
      "cell_type": "code",
      "source": [
        "numbers = {1,2,3,4,5,6,6,7,8,8,9}\n",
        "for i in numbers:\n",
        "  print(i)"
      ],
      "metadata": {
        "colab": {
          "base_uri": "https://localhost:8080/"
        },
        "id": "gowyo8bqIvAp",
        "outputId": "b1c4a162-d729-436b-db92-511dec43b075"
      },
      "execution_count": null,
      "outputs": [
        {
          "output_type": "stream",
          "name": "stdout",
          "text": [
            "1\n",
            "2\n",
            "3\n",
            "4\n",
            "5\n",
            "6\n",
            "7\n",
            "8\n",
            "9\n"
          ]
        }
      ]
    },
    {
      "cell_type": "code",
      "source": [
        "Name = \"KLE BK BCA College in chikodi\"\n",
        "rev = \"\"\n",
        "for i in Name:\n",
        "  rev = i + rev\n",
        "print(rev)"
      ],
      "metadata": {
        "colab": {
          "base_uri": "https://localhost:8080/"
        },
        "id": "13cCE9k8J30N",
        "outputId": "14224e73-e586-45ab-e588-38166d590dc7"
      },
      "execution_count": null,
      "outputs": [
        {
          "output_type": "stream",
          "name": "stdout",
          "text": [
            "idokihc ni egelloC ACB KB ELK\n"
          ]
        }
      ]
    },
    {
      "cell_type": "code",
      "source": [
        "for i in range(10):\n",
        "  print(i)\n",
        "\n",
        "\n",
        "\n"
      ],
      "metadata": {
        "colab": {
          "base_uri": "https://localhost:8080/"
        },
        "id": "bZ13IJw7Pjex",
        "outputId": "e00d9128-6b7d-4d08-aae0-b48d5478abe1"
      },
      "execution_count": null,
      "outputs": [
        {
          "output_type": "stream",
          "name": "stdout",
          "text": [
            "0\n",
            "1\n",
            "2\n",
            "3\n",
            "4\n",
            "5\n",
            "6\n",
            "7\n",
            "8\n",
            "9\n"
          ]
        }
      ]
    },
    {
      "cell_type": "code",
      "source": [
        "for i in range(1,10+1):\n",
        "  print(i)\n",
        "\n"
      ],
      "metadata": {
        "colab": {
          "base_uri": "https://localhost:8080/"
        },
        "id": "ymCF08o8UzcJ",
        "outputId": "957e28b4-73dd-4a1e-cc85-37854ef7f29c"
      },
      "execution_count": null,
      "outputs": [
        {
          "output_type": "stream",
          "name": "stdout",
          "text": [
            "1\n",
            "2\n",
            "3\n",
            "4\n",
            "5\n",
            "6\n",
            "7\n",
            "8\n",
            "9\n",
            "10\n"
          ]
        }
      ]
    },
    {
      "cell_type": "code",
      "source": [
        "sum =0\n",
        "for i in range(1,11):\n",
        "  sum+=i\n",
        "print(\"sum of  N Natural number is:\", sum)"
      ],
      "metadata": {
        "colab": {
          "base_uri": "https://localhost:8080/"
        },
        "id": "Wef7yryZVT86",
        "outputId": "fcda67c6-efad-4983-eda3-be5947b54c96"
      },
      "execution_count": null,
      "outputs": [
        {
          "output_type": "stream",
          "name": "stdout",
          "text": [
            "sum of  N Natural number is: 55\n"
          ]
        }
      ]
    },
    {
      "cell_type": "code",
      "source": [
        "num = 4\n",
        "for i in range(1,11):\n",
        "   print(\"4*\",i,\"=\",num*i)\n",
        "   i= i+1\n"
      ],
      "metadata": {
        "colab": {
          "base_uri": "https://localhost:8080/"
        },
        "id": "7JnDXzzJYTea",
        "outputId": "aecad015-fd68-4868-e9a2-81c5d91dd86c"
      },
      "execution_count": null,
      "outputs": [
        {
          "output_type": "stream",
          "name": "stdout",
          "text": [
            "4* 1 = 4\n",
            "4* 2 = 8\n",
            "4* 3 = 12\n",
            "4* 4 = 16\n",
            "4* 5 = 20\n",
            "4* 6 = 24\n",
            "4* 7 = 28\n",
            "4* 8 = 32\n",
            "4* 9 = 36\n",
            "4* 10 = 40\n"
          ]
        }
      ]
    },
    {
      "cell_type": "code",
      "source": [
        "for i in range(2,101,2):\n",
        "     print(i,end=\" \")\n"
      ],
      "metadata": {
        "colab": {
          "base_uri": "https://localhost:8080/"
        },
        "id": "r8uEksVaZlVD",
        "outputId": "8bca0161-328d-4e35-fd17-e8be2fa7dd1b"
      },
      "execution_count": null,
      "outputs": [
        {
          "output_type": "stream",
          "name": "stdout",
          "text": [
            "2 4 6 8 10 12 14 16 18 20 22 24 26 28 30 32 34 36 38 40 42 44 46 48 50 52 54 56 58 60 62 64 66 68 70 72 74 76 78 80 82 84 86 88 90 92 94 96 98 100 "
          ]
        }
      ]
    },
    {
      "cell_type": "code",
      "source": [
        "fact = 1\n",
        "for i in range(1,6):\n",
        "  fact = fact * i\n",
        "print(\"factorial number is :\", fact)\n"
      ],
      "metadata": {
        "colab": {
          "base_uri": "https://localhost:8080/"
        },
        "id": "ax9WBHcAa3lc",
        "outputId": "c20f5dfc-ff5a-4b93-d515-ec6a13aa3429"
      },
      "execution_count": null,
      "outputs": [
        {
          "output_type": "stream",
          "name": "stdout",
          "text": [
            "factorial number is : 120\n",
            "factorial number is : 120\n"
          ]
        }
      ]
    },
    {
      "cell_type": "code",
      "source": [
        "a, b = 0,1\n",
        "for i in range(1,11):\n",
        "  print(a,end=\" \")\n",
        "  a, b = b, a+b\n"
      ],
      "metadata": {
        "colab": {
          "base_uri": "https://localhost:8080/"
        },
        "id": "lGvvns8GdxQM",
        "outputId": "65627578-4ce0-4e99-afc4-c2af328a1833"
      },
      "execution_count": null,
      "outputs": [
        {
          "output_type": "stream",
          "name": "stdout",
          "text": [
            "0 1 1 2 3 5 8 13 21 34 "
          ]
        }
      ]
    },
    {
      "cell_type": "code",
      "source": [
        "a = 5\n",
        "b = 2\n",
        "print(a//b)"
      ],
      "metadata": {
        "colab": {
          "base_uri": "https://localhost:8080/"
        },
        "id": "O9Fp2fnmf-GM",
        "outputId": "eba98d6f-ae18-443e-d66d-6ab9a5abfc00"
      },
      "execution_count": null,
      "outputs": [
        {
          "output_type": "stream",
          "name": "stdout",
          "text": [
            "2\n"
          ]
        }
      ]
    },
    {
      "cell_type": "code",
      "source": [
        "metal = \"24kgold\"\n",
        "if metal[:2]==\"24\":\n",
        "  print(\"pure gold\")\n",
        "else:\n",
        "  print(\"not pure\")"
      ],
      "metadata": {
        "colab": {
          "base_uri": "https://localhost:8080/"
        },
        "id": "5FukZFuqhAe7",
        "outputId": "164baa1b-e819-451a-b722-322e8c48f962"
      },
      "execution_count": null,
      "outputs": [
        {
          "output_type": "stream",
          "name": "stdout",
          "text": [
            "pure gold\n"
          ]
        }
      ]
    },
    {
      "cell_type": "code",
      "source": [
        "sentence = \"python programming language\"\n",
        "count = 0\n",
        "for ch in sentence :\n",
        "  if ch in \"aeiou\":\n",
        "    count+=1\n",
        "print(\"Total vowels is :\", count)"
      ],
      "metadata": {
        "id": "3JChBwDihues",
        "colab": {
          "base_uri": "https://localhost:8080/"
        },
        "outputId": "d4b44f17-ade3-47e4-af0a-cb5b11cfa77c"
      },
      "execution_count": null,
      "outputs": [
        {
          "output_type": "stream",
          "name": "stdout",
          "text": [
            "Total vowels is : 8\n"
          ]
        }
      ]
    },
    {
      "cell_type": "code",
      "source": [
        "base = 4\n",
        "height = 5\n",
        "triangle = 0.5 * base * height\n",
        "print(\"area of triangle is :\"  ,triangle)"
      ],
      "metadata": {
        "colab": {
          "base_uri": "https://localhost:8080/"
        },
        "id": "BjvohPT_AlmY",
        "outputId": "de43f9e7-d2b9-4783-dddd-ca389cdf2d81"
      },
      "execution_count": null,
      "outputs": [
        {
          "output_type": "stream",
          "name": "stdout",
          "text": [
            "area of triangle is : 10.0\n"
          ]
        }
      ]
    },
    {
      "cell_type": "code",
      "source": [
        "red = 4\n",
        "area = 3.14 * red **2\n",
        "print(\"area of circle is :\" ,area)"
      ],
      "metadata": {
        "colab": {
          "base_uri": "https://localhost:8080/"
        },
        "id": "bV7mTdD9BIwW",
        "outputId": "a11206e5-2610-4d14-9c57-2ceff374a61d"
      },
      "execution_count": null,
      "outputs": [
        {
          "output_type": "stream",
          "name": "stdout",
          "text": [
            "area of circle is : 50.24\n"
          ]
        }
      ]
    },
    {
      "cell_type": "code",
      "source": [
        "ex = [5,25,35,28,45,10,15]\n",
        "largest = ex[0]\n",
        "for i in ex :\n",
        "  if i > largest :\n",
        "    largest = i\n",
        "print(\"largest number is :\" ,largest)\n"
      ],
      "metadata": {
        "colab": {
          "base_uri": "https://localhost:8080/"
        },
        "id": "_lWvZ7x-B_Vf",
        "outputId": "9845120d-3503-4c60-9a4e-230e277e92b4"
      },
      "execution_count": null,
      "outputs": [
        {
          "output_type": "stream",
          "name": "stdout",
          "text": [
            "largest number is : 45\n"
          ]
        }
      ]
    },
    {
      "cell_type": "code",
      "source": [
        "sentence = \"Bachelor of computer scince first semester section c\"\n",
        "count = 0\n",
        "for ch in sentence :\n",
        "  if ch in \"consonents\" :\n",
        "    count +=1\n",
        "print(\"Total consonents is :\",count)"
      ],
      "metadata": {
        "colab": {
          "base_uri": "https://localhost:8080/"
        },
        "id": "H0C9frFUGz0K",
        "outputId": "67d49f4c-47ba-4863-a67c-e08b440de107"
      },
      "execution_count": null,
      "outputs": [
        {
          "output_type": "stream",
          "name": "stdout",
          "text": [
            "Total consonents is : 28\n"
          ]
        }
      ]
    },
    {
      "cell_type": "code",
      "source": [
        "bikes =[\"RX 100\", \"GT 650\",\"Ninja\",\"Splender\",\"Bajaj\",\"Pulsar\",\"NS 200\", \"M 80\",\"Unicorn\"]\n",
        "for bike in bikes :\n",
        "  if bike == \"NS 200\" :\n",
        "    break\n",
        "  print(bike)"
      ],
      "metadata": {
        "colab": {
          "base_uri": "https://localhost:8080/"
        },
        "id": "DVIoiQWYaFIS",
        "outputId": "6fbb1d62-3956-44f8-dbe0-3d6075b7672a"
      },
      "execution_count": null,
      "outputs": [
        {
          "output_type": "stream",
          "name": "stdout",
          "text": [
            "RX 100\n",
            "GT 650\n",
            "Ninja\n",
            "Splender\n",
            "Bajaj\n",
            "Pulsar\n"
          ]
        }
      ]
    },
    {
      "cell_type": "code",
      "source": [
        "colours = {\"purple\",\"pink\",\"black\", \"white\", \"red\",\"orenge\", \"levender\",\"gray\",\"yellow\", \"maroon\"}\n",
        "for color in colours :\n",
        "  if color ==\"pink\" :\n",
        "    break\n",
        "  print(color)"
      ],
      "metadata": {
        "colab": {
          "base_uri": "https://localhost:8080/"
        },
        "id": "ymiTT2pmcklk",
        "outputId": "bdd47c8b-bf59-4070-bbc9-7a76fd16e1ae"
      },
      "execution_count": null,
      "outputs": [
        {
          "output_type": "stream",
          "name": "stdout",
          "text": [
            "black\n",
            "white\n",
            "red\n",
            "levender\n",
            "orenge\n",
            "maroon\n",
            "gray\n",
            "yellow\n",
            "purple\n"
          ]
        }
      ]
    },
    {
      "cell_type": "code",
      "source": [
        "fruits = (\"apple\",\"orange\",\"mango\",\"strawberry\",\"dragon fruit\",\"greeps\",\"banana\",\"pinapal\",\"pappaya\",\"water melon\")\n",
        "for fruit in fruits :\n",
        "  if fruit == \"greeps\" :\n",
        "    continue\n",
        "  print(fruit)"
      ],
      "metadata": {
        "colab": {
          "base_uri": "https://localhost:8080/"
        },
        "id": "CKMyQ65XeFeM",
        "outputId": "802e33cc-d3ba-4a3f-f2f5-66a101d1839d"
      },
      "execution_count": null,
      "outputs": [
        {
          "output_type": "stream",
          "name": "stdout",
          "text": [
            "apple\n",
            "orange\n",
            "mango\n",
            "strawberry\n",
            "dragon frui\n",
            "banana\n",
            "pinapal\n",
            "pappaya\n",
            "water melon\n"
          ]
        }
      ]
    },
    {
      "cell_type": "code",
      "source": [
        "mobiles = [\"vivo\" , \"redmi\",\"oppo\", \"vivo\",\"vivo\",\"vivo\",\"oppo\",\"Iqee\",\"vivo\",\"1 plus\"]\n",
        "for mobile in mobiles:\n",
        "  if mobile == \"vivo\" :\n",
        "    continue\n",
        "  print(mobile)"
      ],
      "metadata": {
        "colab": {
          "base_uri": "https://localhost:8080/"
        },
        "id": "QXjVYv4_gD81",
        "outputId": "993ffab8-ad88-43ea-d8e3-e92a58bebbf5"
      },
      "execution_count": null,
      "outputs": [
        {
          "output_type": "stream",
          "name": "stdout",
          "text": [
            "redmi\n",
            "oppo\n",
            "oppo\n",
            "Iqee\n",
            "1 plus\n"
          ]
        }
      ]
    },
    {
      "cell_type": "code",
      "source": [
        "mobiles = {\"vivo\" , \"redmi\",\"oppo\", \"vivo\",\"vivo\",\"vivo\",\"oppo\",\"Iqee\",\"vivo\",\"1 plus\"}\n",
        "for mobile in mobiles:\n",
        "  if mobile == \"vivo\" :\n",
        "    continue\n",
        "  print(mobile)"
      ],
      "metadata": {
        "colab": {
          "base_uri": "https://localhost:8080/"
        },
        "id": "_EHerye_i4Ol",
        "outputId": "bf01a6dc-2eed-454c-ae8c-3c74d7600ea4"
      },
      "execution_count": null,
      "outputs": [
        {
          "output_type": "stream",
          "name": "stdout",
          "text": [
            "Iqee\n",
            "1 plus\n",
            "redmi\n",
            "oppo\n"
          ]
        }
      ]
    },
    {
      "cell_type": "code",
      "source": [
        "movies = [\"kgf\",\"chhava\",\"bahubali\",\"saiyra\",\"RRR\",\"Kalki\",\"kannadakagi ondannu otti\"]\n",
        "for movie in movies :\n",
        "  if movie == \"trance\" :\n",
        "    pass\n",
        "  print(movie)"
      ],
      "metadata": {
        "colab": {
          "base_uri": "https://localhost:8080/"
        },
        "id": "x3ND9G-iiUZF",
        "outputId": "47ad90a7-95de-4818-99ee-169fcd3af2f8"
      },
      "execution_count": null,
      "outputs": [
        {
          "output_type": "stream",
          "name": "stdout",
          "text": [
            "kgf\n",
            "chhava\n",
            "bahubali\n",
            "saiyra\n",
            "RRR\n",
            "Kalki\n",
            "kannadakagi ondannu otti\n"
          ]
        }
      ]
    },
    {
      "cell_type": "code",
      "source": [
        "movies = [\"kgf\",\"chhava\",\"bahubali\",\"saiyra\",\"RRR\",\"Kalki\",\"kannadakagi ondannu otti\"]\n",
        "for movie in movies :\n",
        "  if movie == \"trance\" :\n",
        "    contenue\n",
        "  print(movie)"
      ],
      "metadata": {
        "colab": {
          "base_uri": "https://localhost:8080/"
        },
        "id": "EMwa3pQWlN-w",
        "outputId": "737e2e19-033e-4bec-b6e8-4c3bb952baa6"
      },
      "execution_count": null,
      "outputs": [
        {
          "output_type": "stream",
          "name": "stdout",
          "text": [
            "kgf\n",
            "chhava\n",
            "bahubali\n",
            "saiyra\n",
            "RRR\n",
            "Kalki\n",
            "kannadakagi ondannu otti\n"
          ]
        }
      ]
    },
    {
      "cell_type": "code",
      "source": [
        "movies = [\"kgf\",\"chhava\",\"bahubali\",\"saiyra\",\"RRR\",\"Kalki\",\"kannadakagi ondannu otti\"]\n",
        "for movie in movies :\n",
        "  if movie == \"trance\" :\n",
        "    break\n",
        "  print(movie)"
      ],
      "metadata": {
        "colab": {
          "base_uri": "https://localhost:8080/"
        },
        "id": "5551AXfAlTvP",
        "outputId": "ed9ac3de-e014-447c-e579-ff892632f165"
      },
      "execution_count": null,
      "outputs": [
        {
          "output_type": "stream",
          "name": "stdout",
          "text": [
            "kgf\n",
            "chhava\n",
            "bahubali\n",
            "saiyra\n",
            "RRR\n",
            "Kalki\n",
            "kannadakagi ondannu otti\n"
          ]
        }
      ]
    },
    {
      "cell_type": "code",
      "source": [
        "omvies = [\"kgf\",\"chhava\",\"bahubali\",\"saiyra\",\"RRR\",\"Kalki\",\"kannadakagi ondannu otti\"]\n",
        "for movie in movies :\n",
        "  if movie == \"RRR\" :\n",
        "    break\n",
        "  print(movie)"
      ],
      "metadata": {
        "colab": {
          "base_uri": "https://localhost:8080/"
        },
        "id": "-hTpnNvblaXX",
        "outputId": "b9c97a7d-88ec-4919-9131-401060c72c67"
      },
      "execution_count": null,
      "outputs": [
        {
          "output_type": "stream",
          "name": "stdout",
          "text": [
            "kgf\n",
            "chhava\n",
            "bahubali\n",
            "saiyra\n"
          ]
        }
      ]
    },
    {
      "cell_type": "code",
      "source": [
        "for i in range(10):\n",
        "  for j in range(10):\n",
        "    print(\"10\",end=\" \")\n",
        "  print()"
      ],
      "metadata": {
        "colab": {
          "base_uri": "https://localhost:8080/"
        },
        "id": "1ADOIrWrp0wS",
        "outputId": "f246fbc9-3311-4867-d261-de8ad333f035"
      },
      "execution_count": null,
      "outputs": [
        {
          "output_type": "stream",
          "name": "stdout",
          "text": [
            "10 10 10 10 10 10 10 10 10 10 \n",
            "10 10 10 10 10 10 10 10 10 10 \n",
            "10 10 10 10 10 10 10 10 10 10 \n",
            "10 10 10 10 10 10 10 10 10 10 \n",
            "10 10 10 10 10 10 10 10 10 10 \n",
            "10 10 10 10 10 10 10 10 10 10 \n",
            "10 10 10 10 10 10 10 10 10 10 \n",
            "10 10 10 10 10 10 10 10 10 10 \n",
            "10 10 10 10 10 10 10 10 10 10 \n",
            "10 10 10 10 10 10 10 10 10 10 \n"
          ]
        }
      ]
    },
    {
      "cell_type": "code",
      "source": [
        "for i in range(10):\n",
        "  for j in range(10):\n",
        "    print(\"1 2 3 4 5 6 7 8 9 \",end=\" \")\n",
        "  print()"
      ],
      "metadata": {
        "colab": {
          "base_uri": "https://localhost:8080/"
        },
        "id": "0YAmTpknq6My",
        "outputId": "ff890ab5-19ea-457b-8f89-a46382d0ce89"
      },
      "execution_count": null,
      "outputs": [
        {
          "output_type": "stream",
          "name": "stdout",
          "text": [
            "1 2 3 4 5 6 7 8 9  1 2 3 4 5 6 7 8 9  1 2 3 4 5 6 7 8 9  1 2 3 4 5 6 7 8 9  1 2 3 4 5 6 7 8 9  1 2 3 4 5 6 7 8 9  1 2 3 4 5 6 7 8 9  1 2 3 4 5 6 7 8 9  1 2 3 4 5 6 7 8 9  1 2 3 4 5 6 7 8 9  \n",
            "1 2 3 4 5 6 7 8 9  1 2 3 4 5 6 7 8 9  1 2 3 4 5 6 7 8 9  1 2 3 4 5 6 7 8 9  1 2 3 4 5 6 7 8 9  1 2 3 4 5 6 7 8 9  1 2 3 4 5 6 7 8 9  1 2 3 4 5 6 7 8 9  1 2 3 4 5 6 7 8 9  1 2 3 4 5 6 7 8 9  \n",
            "1 2 3 4 5 6 7 8 9  1 2 3 4 5 6 7 8 9  1 2 3 4 5 6 7 8 9  1 2 3 4 5 6 7 8 9  1 2 3 4 5 6 7 8 9  1 2 3 4 5 6 7 8 9  1 2 3 4 5 6 7 8 9  1 2 3 4 5 6 7 8 9  1 2 3 4 5 6 7 8 9  1 2 3 4 5 6 7 8 9  \n",
            "1 2 3 4 5 6 7 8 9  1 2 3 4 5 6 7 8 9  1 2 3 4 5 6 7 8 9  1 2 3 4 5 6 7 8 9  1 2 3 4 5 6 7 8 9  1 2 3 4 5 6 7 8 9  1 2 3 4 5 6 7 8 9  1 2 3 4 5 6 7 8 9  1 2 3 4 5 6 7 8 9  1 2 3 4 5 6 7 8 9  \n",
            "1 2 3 4 5 6 7 8 9  1 2 3 4 5 6 7 8 9  1 2 3 4 5 6 7 8 9  1 2 3 4 5 6 7 8 9  1 2 3 4 5 6 7 8 9  1 2 3 4 5 6 7 8 9  1 2 3 4 5 6 7 8 9  1 2 3 4 5 6 7 8 9  1 2 3 4 5 6 7 8 9  1 2 3 4 5 6 7 8 9  \n",
            "1 2 3 4 5 6 7 8 9  1 2 3 4 5 6 7 8 9  1 2 3 4 5 6 7 8 9  1 2 3 4 5 6 7 8 9  1 2 3 4 5 6 7 8 9  1 2 3 4 5 6 7 8 9  1 2 3 4 5 6 7 8 9  1 2 3 4 5 6 7 8 9  1 2 3 4 5 6 7 8 9  1 2 3 4 5 6 7 8 9  \n",
            "1 2 3 4 5 6 7 8 9  1 2 3 4 5 6 7 8 9  1 2 3 4 5 6 7 8 9  1 2 3 4 5 6 7 8 9  1 2 3 4 5 6 7 8 9  1 2 3 4 5 6 7 8 9  1 2 3 4 5 6 7 8 9  1 2 3 4 5 6 7 8 9  1 2 3 4 5 6 7 8 9  1 2 3 4 5 6 7 8 9  \n",
            "1 2 3 4 5 6 7 8 9  1 2 3 4 5 6 7 8 9  1 2 3 4 5 6 7 8 9  1 2 3 4 5 6 7 8 9  1 2 3 4 5 6 7 8 9  1 2 3 4 5 6 7 8 9  1 2 3 4 5 6 7 8 9  1 2 3 4 5 6 7 8 9  1 2 3 4 5 6 7 8 9  1 2 3 4 5 6 7 8 9  \n",
            "1 2 3 4 5 6 7 8 9  1 2 3 4 5 6 7 8 9  1 2 3 4 5 6 7 8 9  1 2 3 4 5 6 7 8 9  1 2 3 4 5 6 7 8 9  1 2 3 4 5 6 7 8 9  1 2 3 4 5 6 7 8 9  1 2 3 4 5 6 7 8 9  1 2 3 4 5 6 7 8 9  1 2 3 4 5 6 7 8 9  \n",
            "1 2 3 4 5 6 7 8 9  1 2 3 4 5 6 7 8 9  1 2 3 4 5 6 7 8 9  1 2 3 4 5 6 7 8 9  1 2 3 4 5 6 7 8 9  1 2 3 4 5 6 7 8 9  1 2 3 4 5 6 7 8 9  1 2 3 4 5 6 7 8 9  1 2 3 4 5 6 7 8 9  1 2 3 4 5 6 7 8 9  \n"
          ]
        }
      ]
    },
    {
      "cell_type": "code",
      "source": [
        "for i in range(10):\n",
        "  for j in range(10):\n",
        "    print(i,end=\" \")\n",
        "  print()"
      ],
      "metadata": {
        "colab": {
          "base_uri": "https://localhost:8080/"
        },
        "id": "IiNo8aqPrOd5",
        "outputId": "176dbef7-2163-43a4-cc93-d7ae43de7eaf"
      },
      "execution_count": null,
      "outputs": [
        {
          "output_type": "stream",
          "name": "stdout",
          "text": [
            "0 0 0 0 0 0 0 0 0 0 \n",
            "1 1 1 1 1 1 1 1 1 1 \n",
            "2 2 2 2 2 2 2 2 2 2 \n",
            "3 3 3 3 3 3 3 3 3 3 \n",
            "4 4 4 4 4 4 4 4 4 4 \n",
            "5 5 5 5 5 5 5 5 5 5 \n",
            "6 6 6 6 6 6 6 6 6 6 \n",
            "7 7 7 7 7 7 7 7 7 7 \n",
            "8 8 8 8 8 8 8 8 8 8 \n",
            "9 9 9 9 9 9 9 9 9 9 \n"
          ]
        }
      ]
    },
    {
      "cell_type": "code",
      "source": [
        "for i in range(1,10):\n",
        "  for j in range(i):\n",
        "    print(j,end=\" \")\n",
        "  print()"
      ],
      "metadata": {
        "colab": {
          "base_uri": "https://localhost:8080/"
        },
        "id": "YwwU0HjQrnKa",
        "outputId": "1fbe09c9-6b1a-40c5-eda6-a313f4d5e262"
      },
      "execution_count": null,
      "outputs": [
        {
          "output_type": "stream",
          "name": "stdout",
          "text": [
            "0 \n",
            "0 1 \n",
            "0 1 2 \n",
            "0 1 2 3 \n",
            "0 1 2 3 4 \n",
            "0 1 2 3 4 5 \n",
            "0 1 2 3 4 5 6 \n",
            "0 1 2 3 4 5 6 7 \n",
            "0 1 2 3 4 5 6 7 8 \n"
          ]
        }
      ]
    },
    {
      "cell_type": "code",
      "source": [
        "for i in range(1,10):\n",
        "  for j in range(j):\n",
        "    print(j,end=\" \")\n",
        "  print()"
      ],
      "metadata": {
        "colab": {
          "base_uri": "https://localhost:8080/"
        },
        "id": "oINXsrH2r3Dr",
        "outputId": "9514ce00-5902-49be-8753-709a2b77c389"
      },
      "execution_count": null,
      "outputs": [
        {
          "output_type": "stream",
          "name": "stdout",
          "text": [
            "0 1 2 3 4 5 6 7 8 \n",
            "0 1 2 3 4 5 6 7 \n",
            "0 1 2 3 4 5 6 \n",
            "0 1 2 3 4 5 \n",
            "0 1 2 3 4 \n",
            "0 1 2 3 \n",
            "0 1 2 \n",
            "0 1 \n",
            "0 \n"
          ]
        }
      ]
    },
    {
      "cell_type": "code",
      "source": [
        "for i in range(8):\n",
        "    for j in range(0,i+1):\n",
        "        print(\" \",end=\"\")\n",
        "    for j in range(8):\n",
        "        print(\"*\",end=\" \")\n",
        "    print()"
      ],
      "metadata": {
        "colab": {
          "base_uri": "https://localhost:8080/"
        },
        "id": "sF3pRN4Z8_UY",
        "outputId": "c1617eec-1936-4724-bc2b-e4c93c905454"
      },
      "execution_count": null,
      "outputs": [
        {
          "output_type": "stream",
          "name": "stdout",
          "text": [
            " * * * * * * * * \n",
            "  * * * * * * * * \n",
            "   * * * * * * * * \n",
            "    * * * * * * * * \n",
            "     * * * * * * * * \n",
            "      * * * * * * * * \n",
            "       * * * * * * * * \n",
            "        * * * * * * * * \n"
          ]
        }
      ]
    },
    {
      "cell_type": "code",
      "source": [
        "row = 6\n",
        "col = 6\n",
        "for i in range(0,row):\n",
        "  for j in range(0,col):\n",
        "    if i == 0 or j== 0 or i == row-1 or j == col-1:\n",
        "      print(\"*\",end=\" \")\n",
        "    else:\n",
        "        print(\" \",end=\" \")\n",
        "  print()"
      ],
      "metadata": {
        "colab": {
          "base_uri": "https://localhost:8080/"
        },
        "id": "kI7pjLu1A7jF",
        "outputId": "0cc66e8c-3ed9-47a9-e6d3-20b0529981ec"
      },
      "execution_count": null,
      "outputs": [
        {
          "output_type": "stream",
          "name": "stdout",
          "text": [
            "* * * * * * \n",
            "*         * \n",
            "*         * \n",
            "*         * \n",
            "*         * \n",
            "* * * * * * \n"
          ]
        }
      ]
    },
    {
      "cell_type": "code",
      "source": [
        "for i in range (10):\n",
        " for j in range(i):\n",
        "    print(\"*\",end=\" \" )\n",
        " print()"
      ],
      "metadata": {
        "colab": {
          "base_uri": "https://localhost:8080/"
        },
        "id": "zX8ialp8DmEY",
        "outputId": "dd05edc0-99a0-46e5-f884-18eb938c5f65"
      },
      "execution_count": null,
      "outputs": [
        {
          "output_type": "stream",
          "name": "stdout",
          "text": [
            "\n",
            "* \n",
            "* * \n",
            "* * * \n",
            "* * * * \n",
            "* * * * * \n",
            "* * * * * * \n",
            "* * * * * * * \n",
            "* * * * * * * * \n",
            "* * * * * * * * * \n"
          ]
        }
      ]
    },
    {
      "cell_type": "code",
      "source": [
        "num = 7\n",
        "for i in range(0,num):\n",
        " for j in range(0,num-i-1):\n",
        "   print(\" \",end=\" \")\n",
        " for k in range(0,i*2+1):\n",
        "   print(\"*\",end=\" \")\n",
        " print()"
      ],
      "metadata": {
        "colab": {
          "base_uri": "https://localhost:8080/"
        },
        "id": "nT4P3iuuEIAo",
        "outputId": "782c3d54-79a8-42ff-95d1-12065f3391d3"
      },
      "execution_count": null,
      "outputs": [
        {
          "output_type": "stream",
          "name": "stdout",
          "text": [
            "            * \n",
            "          * * * \n",
            "        * * * * * \n",
            "      * * * * * * * \n",
            "    * * * * * * * * * \n",
            "  * * * * * * * * * * * \n",
            "* * * * * * * * * * * * * \n"
          ]
        }
      ]
    },
    {
      "cell_type": "code",
      "source": [
        "num = 7\n",
        "for i in range(0,num):\n",
        " for j in range(0,num-i-1):\n",
        "   print(\" \",end=\" \")\n",
        " for j in range(0,i*2+1):\n",
        "   print(chr(65+j),end=\" \")\n",
        " print()"
      ],
      "metadata": {
        "colab": {
          "base_uri": "https://localhost:8080/"
        },
        "id": "_PU_98DeGqaM",
        "outputId": "44cfff7b-5d48-443e-fae5-1889bd6c5df3"
      },
      "execution_count": null,
      "outputs": [
        {
          "output_type": "stream",
          "name": "stdout",
          "text": [
            "            A \n",
            "          A B C \n",
            "        A B C D E \n",
            "      A B C D E F G \n",
            "    A B C D E F G H I \n",
            "  A B C D E F G H I J K \n",
            "A B C D E F G H I J K L M \n"
          ]
        }
      ]
    },
    {
      "cell_type": "code",
      "source": [
        "num = 7\n",
        "for i in range(0,num):\n",
        " for j in range(0,num-i-1):\n",
        "   print(\" \",end=\" \")\n",
        " for j in range(0,i*2+1):\n",
        "   print(chr(97+j),end=\" \")\n",
        " print()"
      ],
      "metadata": {
        "colab": {
          "base_uri": "https://localhost:8080/"
        },
        "id": "5nzCBlLnHj5P",
        "outputId": "32f60655-fe9b-4bae-ebee-cee63abdfa8e"
      },
      "execution_count": null,
      "outputs": [
        {
          "output_type": "stream",
          "name": "stdout",
          "text": [
            "            a \n",
            "          a b c \n",
            "        a b c d e \n",
            "      a b c d e f g \n",
            "    a b c d e f g h i \n",
            "  a b c d e f g h i j k \n",
            "a b c d e f g h i j k l m \n"
          ]
        }
      ]
    },
    {
      "cell_type": "code",
      "source": [
        "num = 7\n",
        "for i in range(0,num):\n",
        " for j in range(0,num-i-1):\n",
        "   print(\" \",end=\" \")\n",
        " for j in range(0,i*2+1):\n",
        "   print(\"*\",end=\" \")\n",
        " print()\n",
        "for i in range(0,num):\n",
        "  for j in range(1,i+1):\n",
        "    print(\" \",end=\" \")\n",
        "  for j in range(0, num):\n",
        "    print(\"*\",end=\" \")\n",
        "  print()"
      ],
      "metadata": {
        "colab": {
          "base_uri": "https://localhost:8080/"
        },
        "id": "RKhtNtTvHvcx",
        "outputId": "37376869-b4f7-4ac9-e438-0b882d6ef263"
      },
      "execution_count": null,
      "outputs": [
        {
          "output_type": "stream",
          "name": "stdout",
          "text": [
            "            * \n",
            "          * * * \n",
            "        * * * * * \n",
            "      * * * * * * * \n",
            "    * * * * * * * * * \n",
            "  * * * * * * * * * * * \n",
            "* * * * * * * * * * * * * \n",
            "* * * * * * * \n",
            "  * * * * * * * \n",
            "    * * * * * * * \n",
            "      * * * * * * * \n",
            "        * * * * * * * \n",
            "          * * * * * * * \n",
            "            * * * * * * * \n"
          ]
        }
      ]
    },
    {
      "cell_type": "code",
      "source": [
        "num = 7\n",
        "for i in range(0,num):\n",
        " for j in range(0,num-i-1):\n",
        "   print(\" \",end=\" \")\n",
        " for j in range(0,i*2+1):\n",
        "   print(\"@\",end=\" \")\n",
        " print()\n",
        "for i in range(0,num):\n",
        "  for j in range(1,i+1):\n",
        "    print(\" \",end=\" \")\n",
        "  for j in range(0, (num-i)*2-1):\n",
        "    print(\"@\",end=\" \")\n",
        "  print()"
      ],
      "metadata": {
        "colab": {
          "base_uri": "https://localhost:8080/"
        },
        "id": "llwAuZJTKJK9",
        "outputId": "edd8d86b-a520-41ad-e4a0-ea9f84c7da59"
      },
      "execution_count": null,
      "outputs": [
        {
          "output_type": "stream",
          "name": "stdout",
          "text": [
            "            @ \n",
            "          @ @ @ \n",
            "        @ @ @ @ @ \n",
            "      @ @ @ @ @ @ @ \n",
            "    @ @ @ @ @ @ @ @ @ \n",
            "  @ @ @ @ @ @ @ @ @ @ @ \n",
            "@ @ @ @ @ @ @ @ @ @ @ @ @ \n",
            "@ @ @ @ @ @ @ @ @ @ @ @ @ \n",
            "  @ @ @ @ @ @ @ @ @ @ @ \n",
            "    @ @ @ @ @ @ @ @ @ \n",
            "      @ @ @ @ @ @ @ \n",
            "        @ @ @ @ @ \n",
            "          @ @ @ \n",
            "            @ \n"
          ]
        }
      ]
    },
    {
      "cell_type": "code",
      "source": [
        "# 1) example\n",
        "def fun (num) :\n",
        "   return num * num\n",
        "print(fun(4))"
      ],
      "metadata": {
        "colab": {
          "base_uri": "https://localhost:8080/"
        },
        "id": "uKLftpA0No-n",
        "outputId": "31a9f131-60d5-460c-c1d2-c4719e2c4c0b"
      },
      "execution_count": null,
      "outputs": [
        {
          "output_type": "stream",
          "name": "stdout",
          "text": [
            "16\n"
          ]
        }
      ]
    },
    {
      "cell_type": "code",
      "source": [
        "def add(a,b):\n",
        "    print(f'addition of two numbers is {a+b}')\n",
        "add(5,10)"
      ],
      "metadata": {
        "colab": {
          "base_uri": "https://localhost:8080/"
        },
        "id": "qvQvcct5RYxq",
        "outputId": "f884b9ab-f9f3-45f3-f707-e038c1b31ca3"
      },
      "execution_count": null,
      "outputs": [
        {
          "output_type": "stream",
          "name": "stdout",
          "text": [
            "addition of two numbers is 15\n"
          ]
        }
      ]
    },
    {
      "cell_type": "code",
      "source": [
        "def example(name, roll_num, section, department, college):\n",
        "  print(f\"my name is {name}, i'm studying {department}, college {college}. my roll_number is {roll_num} and i'm from {section}\")\n",
        "example(\"saki\", \"101\", \"c\", \"Computer Science\", \"kle\")"
      ],
      "metadata": {
        "colab": {
          "base_uri": "https://localhost:8080/"
        },
        "id": "mj1FoyxUbMzu",
        "outputId": "1a51598b-4b42-40a7-9cf5-f5ecb5a55cc1"
      },
      "execution_count": null,
      "outputs": [
        {
          "output_type": "stream",
          "name": "stdout",
          "text": [
            "my name is saki, i'm studying Computer Science, college kle. my roll_number is 101 and i'm from c\n"
          ]
        }
      ]
    },
    {
      "cell_type": "code",
      "source": [
        "def fun(name,game,time):\n",
        "  print(f\"I'm {name}; i'm playing {game} at {time} time\")\n",
        "fun(time = \"evening\", name = \"saki\", game = \"cricket\")"
      ],
      "metadata": {
        "colab": {
          "base_uri": "https://localhost:8080/"
        },
        "id": "A8FDoY79czNn",
        "outputId": "69abdd37-37c9-4681-c15c-3211bfe460d9"
      },
      "execution_count": null,
      "outputs": [
        {
          "output_type": "stream",
          "name": "stdout",
          "text": [
            "I'm saki; i'm playing cricket at evening time\n"
          ]
        }
      ]
    },
    {
      "cell_type": "code",
      "source": [
        "def laptop(name = \"lenovo\"):\n",
        "    print(\"my laptop name is:\",name)\n",
        "laptop(\"dell\")\n",
        "laptop(\"hp\")\n",
        "laptop()\n",
        "laptop(\"asus\")"
      ],
      "metadata": {
        "colab": {
          "base_uri": "https://localhost:8080/"
        },
        "id": "H2gZaBKQezfn",
        "outputId": "f8ce8380-2810-4146-ef72-e5bc2acea532"
      },
      "execution_count": null,
      "outputs": [
        {
          "output_type": "stream",
          "name": "stdout",
          "text": [
            "my laptop name is: dell\n",
            "my laptop name is: hp\n",
            "my laptop name is: lenovo\n",
            "my laptop name is: asus\n"
          ]
        }
      ]
    },
    {
      "cell_type": "code",
      "source": [
        "def add(*args):\n",
        "    total = 0\n",
        "    for num in args :\n",
        "      total+=num\n",
        "    print(\"total value is :\",total)\n",
        "add(10,5)\n",
        "add(5,4,9)\n",
        "add(10,46,14,20)\n"
      ],
      "metadata": {
        "colab": {
          "base_uri": "https://localhost:8080/"
        },
        "id": "FfShuIhy7crX",
        "outputId": "3e884f82-253d-4f76-b4b9-00313e5097f0"
      },
      "execution_count": null,
      "outputs": [
        {
          "output_type": "stream",
          "name": "stdout",
          "text": [
            "total value is : 15\n",
            "total value is : 18\n",
            "total value is : 90\n"
          ]
        }
      ]
    },
    {
      "cell_type": "code",
      "source": [
        "def print_details(**kwargs):\n",
        "  for key, value in kwargs.items():\n",
        "    print(f\"{key}={value}\")\n",
        "print_details(name='basu',age=25,city='kathmandu')"
      ],
      "metadata": {
        "colab": {
          "base_uri": "https://localhost:8080/"
        },
        "id": "2OvbeDu3MRAL",
        "outputId": "1bf76535-c3e7-482c-cf8b-66cd40a5ba5e"
      },
      "execution_count": null,
      "outputs": [
        {
          "output_type": "stream",
          "name": "stdout",
          "text": [
            "name=basu\n",
            "age=25\n",
            "city=kathmandu\n"
          ]
        }
      ]
    },
    {
      "cell_type": "code",
      "source": [
        "def print_details(**kwargs):\n",
        "  for key, value in kwargs.items():\n",
        "    print(f'my details is{key}and{value}')\n",
        "print_details(course=\"BCA\",Section = 'C',College = \"BK College\")\n",
        "print_details(place = \"Bengaluru\")\n",
        "print_details(roll_num = 101,T_Subject=7)"
      ],
      "metadata": {
        "colab": {
          "base_uri": "https://localhost:8080/"
        },
        "id": "WFvK8XeRNWNG",
        "outputId": "c16ab63b-1c17-4799-c175-43f46caaf239"
      },
      "execution_count": null,
      "outputs": [
        {
          "output_type": "stream",
          "name": "stdout",
          "text": [
            "my details iscourseandBCA\n",
            "my details isSectionandC\n",
            "my details isCollegeandBK College\n",
            "my details isplaceandBengaluru\n",
            "my details isroll_numand101\n",
            "my details isT_Subjectand7\n"
          ]
        }
      ]
    },
    {
      "cell_type": "code",
      "source": [
        "def print_details(**kwargs):\n",
        "  for key, value in kwargs.items():\n",
        "    print( f'my details is {key} and {value}')\n",
        "print_details( course = \"BCA\", Section = 'C', College = \"BK College\")\n",
        "print_details( place = \" Bengaluru \")\n",
        "print_details( roll_num = 101, T_Subject = 7)\n",
        "print_details( laptop = \"lenovo\", O_S = \"Window\", year = 2025, version = \"Windows\")"
      ],
      "metadata": {
        "colab": {
          "base_uri": "https://localhost:8080/"
        },
        "id": "mYJR4BE9PAyk",
        "outputId": "b0e94ca3-185f-4b6f-e771-ad7b3b2c963a"
      },
      "execution_count": null,
      "outputs": [
        {
          "output_type": "stream",
          "name": "stdout",
          "text": [
            "my details is course and BCA\n",
            "my details is Section and C\n",
            "my details is College and BK College\n",
            "my details is place and  Bengaluru \n",
            "my details is roll_num and 101\n",
            "my details is T_Subject and 7\n",
            "my details is laptop and lenovo\n",
            "my details is O_S and Window\n",
            "my details is year and 2025\n",
            "my details is version and Windows\n"
          ]
        }
      ]
    },
    {
      "cell_type": "code",
      "source": [
        "def show_values (*args, **kwargs):\n",
        "  print(\"positional arguments represented in tuple\", args)\n",
        "  print(\"key-words arguments represented in dict \" ,kwargs)\n",
        "show_values(1,2,3,4,name = \"sakshi\")"
      ],
      "metadata": {
        "colab": {
          "base_uri": "https://localhost:8080/"
        },
        "id": "-c0MMj6KO44L",
        "outputId": "7c8ee5ba-e627-4574-ae2d-2dd374bd3fed"
      },
      "execution_count": null,
      "outputs": [
        {
          "output_type": "stream",
          "name": "stdout",
          "text": [
            "positional arguments represented in tuple (1, 2, 3, 4)\n",
            "key-words arguments represented in dict  {'name': 'sakshi'}\n"
          ]
        }
      ]
    },
    {
      "cell_type": "code",
      "source": [
        "def show_values (*args, **kwargs):\n",
        "  print(\"positional arguments represented in tuple\", args)\n",
        "  print(\"key-words arguments represented in dict \" ,kwargs)\n",
        "show_values(1,2,3,4,name = \"sakshi\")\n",
        "show_values(5,8,1,10,student_class = \"BCA C Section\", gender = \"female\")"
      ],
      "metadata": {
        "colab": {
          "base_uri": "https://localhost:8080/"
        },
        "id": "x10g8TjtRvEP",
        "outputId": "4361168a-c8cd-4f31-fb44-fe9d18a9dd00"
      },
      "execution_count": null,
      "outputs": [
        {
          "output_type": "stream",
          "name": "stdout",
          "text": [
            "positional arguments represented in tuple (1, 2, 3, 4)\n",
            "key-words arguments represented in dict  {'name': 'sakshi'}\n",
            "positional arguments represented in tuple (5, 8, 1, 10)\n",
            "key-words arguments represented in dict  {'student_class': 'BCA C Section', 'gender': 'female'}\n"
          ]
        }
      ]
    },
    {
      "cell_type": "code",
      "source": [
        "i = 1\n",
        "fact = 1\n",
        "while i<6 :\n",
        "  fact = fact * i\n",
        "  i+=1\n",
        "print(fact)"
      ],
      "metadata": {
        "colab": {
          "base_uri": "https://localhost:8080/"
        },
        "id": "vWZIgZMHUbCC",
        "outputId": "35c93073-98de-418e-ce2f-80fd38187cbc"
      },
      "execution_count": null,
      "outputs": [
        {
          "output_type": "stream",
          "name": "stdout",
          "text": [
            "120\n"
          ]
        }
      ]
    },
    {
      "cell_type": "code",
      "source": [
        "def sum (num):\n",
        "  if num == 0 :\n",
        "    return num\n",
        "  else:\n",
        "      return num +sum (num-1)\n",
        "      sum(10)"
      ],
      "metadata": {
        "id": "-rSDC7Z7XrzJ"
      },
      "execution_count": null,
      "outputs": []
    },
    {
      "cell_type": "code",
      "source": [
        "def sum (num):\n",
        "  if num == 0 or num == 1:\n",
        "    return num\n",
        "  else:\n",
        "    return num + sum (num-1)\n",
        "num = 10\n",
        "print(\"sum n natural num is :\", sum(10))"
      ],
      "metadata": {
        "colab": {
          "base_uri": "https://localhost:8080/"
        },
        "id": "1jvwyw5XaRag",
        "outputId": "596e5271-2d46-41e6-9684-e9be1b0cde0d"
      },
      "execution_count": null,
      "outputs": [
        {
          "output_type": "stream",
          "name": "stdout",
          "text": [
            "sum n natural num is : 55\n"
          ]
        }
      ]
    },
    {
      "cell_type": "code",
      "source": [
        "def fibo (num):\n",
        "  if num <= 1 :\n",
        "    return num\n",
        "  else:\n",
        "      return fibo (num-1) + fibo(num-2)\n",
        "      number = 7\n",
        "for i in range(11) :\n",
        "        print(fibo(i),end = \" \")"
      ],
      "metadata": {
        "colab": {
          "base_uri": "https://localhost:8080/"
        },
        "id": "X8Hz-MrhbjW6",
        "outputId": "ee5b0b59-a6a2-4cf2-e931-b6684810698b"
      },
      "execution_count": null,
      "outputs": [
        {
          "output_type": "stream",
          "name": "stdout",
          "text": [
            "0 1 1 2 3 5 8 13 21 34 55 "
          ]
        }
      ]
    },
    {
      "cell_type": "code",
      "source": [
        "name = \"vasu\"\n",
        "print(name[:4])"
      ],
      "metadata": {
        "colab": {
          "base_uri": "https://localhost:8080/"
        },
        "id": "6oyjBISghKPZ",
        "outputId": "2874bdef-a38e-42d9-a805-a1514f15abc4"
      },
      "execution_count": null,
      "outputs": [
        {
          "output_type": "stream",
          "name": "stdout",
          "text": [
            "vasu\n"
          ]
        }
      ]
    },
    {
      "cell_type": "code",
      "source": [
        "class fruit:\n",
        "      colour = \"orange\"\n",
        "      price = 250\n",
        "      teste = \"sweet\"\n",
        "      shape = \"circle\"\n",
        "      def juices(self):\n",
        "          print(\"good\")\n",
        "orange =fruit()\n",
        "print(\" orange colour is \" ,orange .colour)\n",
        "orange.juices()\n",
        "print(orange.price)\n"
      ],
      "metadata": {
        "id": "Zqi7vGOVjkVq",
        "colab": {
          "base_uri": "https://localhost:8080/"
        },
        "outputId": "5533c6d4-db58-402c-9702-f2e07bae715e"
      },
      "execution_count": null,
      "outputs": [
        {
          "output_type": "stream",
          "name": "stdout",
          "text": [
            " orange colour is  orange\n",
            "good\n",
            "250\n"
          ]
        }
      ]
    },
    {
      "cell_type": "code",
      "source": [
        "class flower :\n",
        "      smell = \"nice\"\n",
        "      petal = 5\n",
        "      size = \"medium\"\n",
        "      gender = \"female\"\n",
        "      validity = 1.5\n",
        "      def decoration(self):\n",
        "          print(\"very nice\")\n",
        "      def gift(self):\n",
        "          print(\"good\")\n",
        "      def  marriage(self):\n",
        "           print(\"marriage\")\n",
        "      def death (self):\n",
        "           print(\"this flower using for death time\")\n",
        "obj = flower()\n",
        "obj . marriage()\n",
        "print(obj.gender)\n",
        "obj.decoration()\n",
        "obj.gift()"
      ],
      "metadata": {
        "colab": {
          "base_uri": "https://localhost:8080/"
        },
        "id": "m_Wmv5E-ufEG",
        "outputId": "a3bb8281-a115-434a-ddbd-40e0ea2cce36"
      },
      "execution_count": null,
      "outputs": [
        {
          "output_type": "stream",
          "name": "stdout",
          "text": [
            "marriage\n",
            "female\n",
            "very nice\n",
            "good\n"
          ]
        }
      ]
    },
    {
      "cell_type": "code",
      "source": [
        "class fan  :\n",
        "      colur = \"black\"\n",
        "      wings = 3\n",
        "      c_name = \"bajaj\"\n",
        "      price = 1500\n",
        "      warranty = \"2 years\"\n",
        "      def start(self):\n",
        "          print(\"when click on button it'll start\")\n",
        "      def speed (self):\n",
        "          print(\"based on condition it'll move fast\")\n",
        "      def stop(self):\n",
        "           print(\"when click on off button it'll stop\")\n",
        "\n",
        "obj = fan()\n",
        "print(obj.c_name+\" \"+obj.warranty)\n",
        "obj.stop()\n",
        "obj.start()"
      ],
      "metadata": {
        "colab": {
          "base_uri": "https://localhost:8080/"
        },
        "id": "x8nLnW2yx6RX",
        "outputId": "bf99d5f0-40b3-4393-979f-bab161605ad3"
      },
      "execution_count": null,
      "outputs": [
        {
          "output_type": "stream",
          "name": "stdout",
          "text": [
            "bajaj 2 years\n",
            "when click on off button it'll stop\n",
            "when click on button it'll start\n"
          ]
        }
      ]
    },
    {
      "cell_type": "code",
      "source": [
        "def fun (name):\n",
        "  print(\"my name is a \",name)\n",
        "fun (\"sakshi\")"
      ],
      "metadata": {
        "colab": {
          "base_uri": "https://localhost:8080/"
        },
        "id": "gtHQi2tr1E0u",
        "outputId": "8d1bb7be-fc7f-451c-df52-73d160bf16df"
      },
      "execution_count": null,
      "outputs": [
        {
          "output_type": "stream",
          "name": "stdout",
          "text": [
            "my name is a  sakshi\n"
          ]
        }
      ]
    },
    {
      "cell_type": "code",
      "source": [
        "class Bank :\n",
        "  def __init__(self,balance):\n",
        "    self.balance = balance\n",
        "  def Deposit(self, amount):\n",
        "    self.balance += amount\n",
        "  def Withdraw(self,amount):\n",
        "    if amount <= self.balance:\n",
        "      self.balance -= amount\n",
        "      print(\"Transaction successfully\")\n",
        "    else:\n",
        "        print(\"Insufficient balence\")\n",
        "  def re_balance(self):\n",
        "      return self.balance\n",
        "\n",
        "obj = Bank(1000)\n",
        "print(obj.balance)\n",
        "obj.Deposit(500)\n",
        "print(obj.balance)\n",
        "obj.Withdraw(700)\n",
        "print(obj.balance)\n",
        "obj.Deposit(1000)\n",
        "print(\"current total balance is\",obj.balance)\n",
        "obj.Withdraw(2000)\n",
        "print(obj.balance)\n",
        "obj.Withdraw(1500)\n",
        "print(\"current total balance is\",obj.balance)"
      ],
      "metadata": {
        "colab": {
          "base_uri": "https://localhost:8080/"
        },
        "id": "Fj22IPecBDRD",
        "outputId": "beb8d958-1429-466b-f737-d1a1eefa44f8"
      },
      "execution_count": 101,
      "outputs": [
        {
          "output_type": "stream",
          "name": "stdout",
          "text": [
            "1000\n",
            "1500\n",
            "Transaction successfully\n",
            "800\n",
            "current total balance is 1800\n",
            "Insufficient balence\n",
            "1800\n",
            "Transaction successfully\n",
            "current total balance is 300\n"
          ]
        }
      ]
    },
    {
      "cell_type": "code",
      "source": [
        "class student :\n",
        "  def __init__(self,name,marks,Place):\n",
        "    self.__name = name\n",
        "    self.__marks = marks\n",
        "    self.Place = Place\n",
        "  def set_method(self,name,marks):\n",
        "    self.__name = name\n",
        "    self.__marks = marks\n",
        "  def get_method(self):\n",
        "    return self.__name+\" \"+str(self.__marks)\n",
        "\n",
        "obj = student(\"Shrushti\",85,\"chikodi\")\n",
        "obj.set_method(\"sharath\",69)\n",
        "print(obj.get_method())"
      ],
      "metadata": {
        "colab": {
          "base_uri": "https://localhost:8080/"
        },
        "id": "WNZDFwXBPd4A",
        "outputId": "32725152-71e9-4351-96cd-4831df334e91"
      },
      "execution_count": 127,
      "outputs": [
        {
          "output_type": "stream",
          "name": "stdout",
          "text": [
            "sharath 69\n"
          ]
        }
      ]
    },
    {
      "cell_type": "code",
      "source": [
        " #SINGLE INHERITANCE\n",
        " class parent :\n",
        "    def Work(self):\n",
        "      print(\"My parents are doing forming\")\n",
        "class Childern(parent):\n",
        "  def study(self):\n",
        "    print(\"I'm studying BCA in BK College\")\n",
        "ch = Childern()\n",
        "ch.Work()\n",
        "ch.study()"
      ],
      "metadata": {
        "colab": {
          "base_uri": "https://localhost:8080/"
        },
        "id": "sXtNlm3UbxZl",
        "outputId": "73663c18-13d3-4ff2-bf89-095fb25bb7c8"
      },
      "execution_count": 132,
      "outputs": [
        {
          "output_type": "stream",
          "name": "stdout",
          "text": [
            "My parents are doing forming\n",
            "I'm studying BCA in BK College\n"
          ]
        }
      ]
    },
    {
      "cell_type": "code",
      "source": [
        "#MULTIPLE INHERITANCE\n",
        "class Father :\n",
        "  def Hi(self):\n",
        "    print(\"My father is my first hero\")\n",
        "\n",
        "class Mother :\n",
        "  def Hello(self):\n",
        "    print(\"My mother is real queen\")\n",
        "\n",
        "class child(Father,Mother):\n",
        "  def  bye(self):\n",
        "    print(\"I'm working as a Freelancer\")\n",
        "\n",
        "obj = child()\n",
        "obj.Hi()\n",
        "obj.Hello()\n",
        "obj.bye()"
      ],
      "metadata": {
        "colab": {
          "base_uri": "https://localhost:8080/"
        },
        "id": "1DwJX3JCdau8",
        "outputId": "cd92703f-1283-4773-d655-717deec1ae55"
      },
      "execution_count": 134,
      "outputs": [
        {
          "output_type": "stream",
          "name": "stdout",
          "text": [
            "My father is my first hero\n",
            "My mother is real queen\n",
            "I'm working as a Freelancer\n"
          ]
        }
      ]
    },
    {
      "cell_type": "code",
      "source": [
        "#MULTI LEVEL INHERITANS\n",
        "class Grand_parents :\n",
        "  def Formar(self):\n",
        "    print(\"😵‍💫😵‍💫\")\n",
        "class parents(Grand_parents) :\n",
        "  def House(self) :\n",
        "    print(\"⚽️⚽️\")\n",
        "class child(parents) :\n",
        "  def jolly(self):\n",
        "    print(\"☑️☑️☑️\")\n",
        "obj = child()\n",
        "obj.House()\n",
        "obj.Formar()\n",
        "obj.jolly()\n"
      ],
      "metadata": {
        "colab": {
          "base_uri": "https://localhost:8080/"
        },
        "id": "5Sn2tqzlfYl7",
        "outputId": "16741c5d-2c2b-4c6d-b5d0-1fef24e8d398"
      },
      "execution_count": 139,
      "outputs": [
        {
          "output_type": "stream",
          "name": "stdout",
          "text": [
            "⚽️⚽️\n",
            "😵‍💫😵‍💫\n",
            "☑️☑️☑️\n"
          ]
        }
      ]
    },
    {
      "cell_type": "code",
      "source": [
        "#HIRARKEY INHERITANC\n",
        "class parents :\n",
        "  def Business(self):\n",
        "    print(\"My parents are doing business\")\n",
        "class child1(parents) :\n",
        "  def study(self):\n",
        "    print(\"I'm studing BCA \")\n",
        "class child2(parents):\n",
        "  def study(self):\n",
        "    print(\"I'm studing PUC\")\n",
        "\n",
        "ch = child1()\n",
        "ch.Business()\n",
        "ch.study()\n",
        "\n",
        "obj = child2()\n",
        "obj.Business()\n",
        "obj.study()\n"
      ],
      "metadata": {
        "colab": {
          "base_uri": "https://localhost:8080/"
        },
        "id": "uBZxQYtqidli",
        "outputId": "4ccc8ab4-907f-4242-ee26-d3343b75bc81"
      },
      "execution_count": 144,
      "outputs": [
        {
          "output_type": "stream",
          "name": "stdout",
          "text": [
            "My parents are doing business\n",
            "I'm studing BCA \n",
            "My parents are doing business\n",
            "I'm studing PUC\n"
          ]
        }
      ]
    },
    {
      "cell_type": "code",
      "source": [
        "#HYBRID INHERITANCE\n",
        "class A:\n",
        "  def hi (self):\n",
        "    print(\"hiiiiiiiiii\")\n",
        "class B(A) :\n",
        "  def Hello(self):\n",
        "    print(\"Helooooooo\")\n",
        "class C(A) :\n",
        "  def bye(self):\n",
        "    print(\"byeeeeeeee\")\n",
        "class D(B,C):\n",
        "  def good(self):\n",
        "    print(\"good morning\")\n",
        "obj = D()\n",
        "obj.hi()\n",
        "obj.Hello()\n",
        "obj.bye()\n",
        "obj.good()"
      ],
      "metadata": {
        "colab": {
          "base_uri": "https://localhost:8080/"
        },
        "id": "2xZ_T-Fvk9Uh",
        "outputId": "ddd178f3-aaa5-4fc3-db3d-eae2ab523ba0"
      },
      "execution_count": 146,
      "outputs": [
        {
          "output_type": "stream",
          "name": "stdout",
          "text": [
            "hiiiiiiiiii\n",
            "Helooooooo\n",
            "byeeeeeeee\n",
            "good morning\n"
          ]
        }
      ]
    }
  ]
}