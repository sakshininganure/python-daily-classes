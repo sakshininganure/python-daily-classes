{
  "nbformat": 4,
  "nbformat_minor": 0,
  "metadata": {
    "colab": {
      "provenance": []
    },
    "kernelspec": {
      "name": "python3",
      "display_name": "Python 3"
    },
    "language_info": {
      "name": "python"
    }
  },
  "cells": [
    {
      "cell_type": "code",
      "execution_count": 1427,
      "metadata": {
        "colab": {
          "base_uri": "https://localhost:8080/"
        },
        "id": "TpENM2Vm-NUK",
        "outputId": "8930b7ed-a9a7-4220-9cf2-1b3b73289211"
      },
      "outputs": [
        {
          "output_type": "stream",
          "name": "stdout",
          "text": [
            "Hello world\n"
          ]
        }
      ],
      "source": [
        "                                                                                                                                                                                                                       print(\"Hello world\")"
      ]
    },
    {
      "cell_type": "code",
      "source": [
        "print(\"Good morning\")"
      ],
      "metadata": {
        "colab": {
          "base_uri": "https://localhost:8080/"
        },
        "id": "qvil2PBA_Drw",
        "outputId": "720b821e-faad-4744-b304-d30fd12d48f3"
      },
      "execution_count": 1428,
      "outputs": [
        {
          "output_type": "stream",
          "name": "stdout",
          "text": [
            "Good morning\n"
          ]
        }
      ]
    },
    {
      "cell_type": "code",
      "source": [
        "print(\"shrushti\")"
      ],
      "metadata": {
        "colab": {
          "base_uri": "https://localhost:8080/"
        },
        "id": "cn53LERk_MtK",
        "outputId": "dadd4eaa-a2b7-4bd0-f2f9-635f57d9c1f6"
      },
      "execution_count": 1429,
      "outputs": [
        {
          "output_type": "stream",
          "name": "stdout",
          "text": [
            "shrushti\n"
          ]
        }
      ]
    },
    {
      "cell_type": "code",
      "source": [
        "print(\"KLE BCA College \")"
      ],
      "metadata": {
        "colab": {
          "base_uri": "https://localhost:8080/"
        },
        "id": "pNrqWY6O_SGD",
        "outputId": "57c4caf6-17e6-4aea-8396-72bae84106d1"
      },
      "execution_count": 1430,
      "outputs": [
        {
          "output_type": "stream",
          "name": "stdout",
          "text": [
            "KLE BCA College \n"
          ]
        }
      ]
    },
    {
      "cell_type": "code",
      "source": [
        "print(\"5+5\")"
      ],
      "metadata": {
        "colab": {
          "base_uri": "https://localhost:8080/"
        },
        "id": "tvPjmxbV_jlz",
        "outputId": "81175667-9290-4dea-a05d-5f158174aec9"
      },
      "execution_count": 1431,
      "outputs": [
        {
          "output_type": "stream",
          "name": "stdout",
          "text": [
            "5+5\n"
          ]
        }
      ]
    },
    {
      "cell_type": "code",
      "source": [
        "a=10\n",
        "print(a)"
      ],
      "metadata": {
        "colab": {
          "base_uri": "https://localhost:8080/"
        },
        "id": "Nd04sqWwAI6C",
        "outputId": "664cf4ad-9036-4b5f-af03-137094996b05"
      },
      "execution_count": 1432,
      "outputs": [
        {
          "output_type": "stream",
          "name": "stdout",
          "text": [
            "10\n"
          ]
        }
      ]
    },
    {
      "cell_type": "code",
      "source": [
        "print(\"hello word\"* 3)"
      ],
      "metadata": {
        "colab": {
          "base_uri": "https://localhost:8080/"
        },
        "id": "7bi5H2IJI5c_",
        "outputId": "5862fd4c-59f6-4aff-a3d1-d9f513c927ac"
      },
      "execution_count": 1433,
      "outputs": [
        {
          "output_type": "stream",
          "name": "stdout",
          "text": [
            "hello wordhello wordhello word\n"
          ]
        }
      ]
    },
    {
      "cell_type": "code",
      "source": [
        "print(100/3)"
      ],
      "metadata": {
        "colab": {
          "base_uri": "https://localhost:8080/"
        },
        "id": "K01aRFv6JEeG",
        "outputId": "ae0300d5-81aa-46bd-83f8-05b9d17b1d77"
      },
      "execution_count": 1434,
      "outputs": [
        {
          "output_type": "stream",
          "name": "stdout",
          "text": [
            "33.333333333333336\n"
          ]
        }
      ]
    },
    {
      "cell_type": "code",
      "source": [
        "print(\"pyton programming language\\n\"*5)"
      ],
      "metadata": {
        "colab": {
          "base_uri": "https://localhost:8080/"
        },
        "id": "B7SFmQOWJYPw",
        "outputId": "f0fae68d-cbf2-4027-bd19-263261b3a7e2"
      },
      "execution_count": 1435,
      "outputs": [
        {
          "output_type": "stream",
          "name": "stdout",
          "text": [
            "pyton programming language\n",
            "pyton programming language\n",
            "pyton programming language\n",
            "pyton programming language\n",
            "pyton programming language\n",
            "\n"
          ]
        }
      ]
    },
    {
      "cell_type": "code",
      "source": [
        "print(\" my name is shrushti s Haragapure. I am from Hattarwat.\\n I have complited P.U.C in majalatti.\\n Now Iam persuving BCA in B.K College Chikodi \")"
      ],
      "metadata": {
        "colab": {
          "base_uri": "https://localhost:8080/"
        },
        "id": "O0Hzz6oCJ-I1",
        "outputId": "c3b9b20e-3dec-44ea-9df0-0769b5d90917"
      },
      "execution_count": 1436,
      "outputs": [
        {
          "output_type": "stream",
          "name": "stdout",
          "text": [
            " my name is shrushti s Haragapure. I am from Hattarwat.\n",
            " I have complited P.U.C in majalatti.\n",
            " Now Iam persuving BCA in B.K College Chikodi \n"
          ]
        }
      ]
    },
    {
      "cell_type": "code",
      "source": [
        "print(\"hello\"+\"world\")"
      ],
      "metadata": {
        "colab": {
          "base_uri": "https://localhost:8080/"
        },
        "id": "q0ihvt4qLeYG",
        "outputId": "2bc06b2d-2678-4a1a-920d-bfb3af72702c"
      },
      "execution_count": 1437,
      "outputs": [
        {
          "output_type": "stream",
          "name": "stdout",
          "text": [
            "helloworld\n"
          ]
        }
      ]
    },
    {
      "cell_type": "code",
      "source": [
        "print(\"good morning\\n\" *10)"
      ],
      "metadata": {
        "colab": {
          "base_uri": "https://localhost:8080/"
        },
        "id": "Zu_SLrvGMncd",
        "outputId": "c626a79b-b38d-43a8-aaca-69bd58b53363"
      },
      "execution_count": 1438,
      "outputs": [
        {
          "output_type": "stream",
          "name": "stdout",
          "text": [
            "good morning\n",
            "good morning\n",
            "good morning\n",
            "good morning\n",
            "good morning\n",
            "good morning\n",
            "good morning\n",
            "good morning\n",
            "good morning\n",
            "good morning\n",
            "\n"
          ]
        }
      ]
    },
    {
      "cell_type": "code",
      "source": [
        "name=\"shrushti\"\n",
        "print(name)"
      ],
      "metadata": {
        "colab": {
          "base_uri": "https://localhost:8080/"
        },
        "id": "PznZPES5Nxq1",
        "outputId": "e4934ed0-95ac-4292-a20a-866a7d278045"
      },
      "execution_count": 1439,
      "outputs": [
        {
          "output_type": "stream",
          "name": "stdout",
          "text": [
            "shrushti\n"
          ]
        }
      ]
    },
    {
      "cell_type": "code",
      "source": [
        " print(\"  kannada-100\\n english-93\\n physics-78\\nchemistry-80\\n maths-86\\n biology-90\\n\")"
      ],
      "metadata": {
        "colab": {
          "base_uri": "https://localhost:8080/"
        },
        "id": "HhKlmd9yOl_t",
        "outputId": "0e52b967-f4cc-4359-efcf-4ef19a9999ee"
      },
      "execution_count": 1440,
      "outputs": [
        {
          "output_type": "stream",
          "name": "stdout",
          "text": [
            "  kannada-100\n",
            " english-93\n",
            " physics-78\n",
            "chemistry-80\n",
            " maths-86\n",
            " biology-90\n",
            "\n"
          ]
        }
      ]
    },
    {
      "cell_type": "code",
      "source": [
        "Age=25\n",
        "age=25\n",
        "print(Age,age)"
      ],
      "metadata": {
        "colab": {
          "base_uri": "https://localhost:8080/"
        },
        "id": "5aLkejYyWCgP",
        "outputId": "35d3e982-a4c1-40b0-9754-ec5b86af8a93"
      },
      "execution_count": 1441,
      "outputs": [
        {
          "output_type": "stream",
          "name": "stdout",
          "text": [
            "25 25\n"
          ]
        }
      ]
    },
    {
      "cell_type": "code",
      "source": [
        "x=10\n",
        "x=15\n",
        "print(x,x)"
      ],
      "metadata": {
        "colab": {
          "base_uri": "https://localhost:8080/"
        },
        "id": "zRe6XXMFWUrX",
        "outputId": "94db4333-0c7d-40ee-deb7-37efaf6b223d"
      },
      "execution_count": 1442,
      "outputs": [
        {
          "output_type": "stream",
          "name": "stdout",
          "text": [
            "15 15\n"
          ]
        }
      ]
    },
    {
      "cell_type": "code",
      "source": [
        "_N_A_M_E = \"Computer\"\n",
        "print(_N_A_M_E)"
      ],
      "metadata": {
        "colab": {
          "base_uri": "https://localhost:8080/"
        },
        "id": "wglewRexWdpf",
        "outputId": "e068091d-5777-4a11-d5e4-fdb36e7f7db0"
      },
      "execution_count": 1443,
      "outputs": [
        {
          "output_type": "stream",
          "name": "stdout",
          "text": [
            "Computer\n"
          ]
        }
      ]
    },
    {
      "cell_type": "code",
      "source": [
        "Y=3.24\n",
        "print(Y)"
      ],
      "metadata": {
        "colab": {
          "base_uri": "https://localhost:8080/"
        },
        "id": "VKOW3qdwW9B3",
        "outputId": "34bec6ee-d05f-4b05-aa24-ae31ce0dd6ad"
      },
      "execution_count": 1444,
      "outputs": [
        {
          "output_type": "stream",
          "name": "stdout",
          "text": [
            "3.24\n"
          ]
        }
      ]
    },
    {
      "cell_type": "code",
      "source": [
        "yes = True\n",
        "print(yes)"
      ],
      "metadata": {
        "colab": {
          "base_uri": "https://localhost:8080/"
        },
        "id": "98CqXs0QXF__",
        "outputId": "54f24ed9-0f51-418b-c25c-7bbe00b13437"
      },
      "execution_count": 1445,
      "outputs": [
        {
          "output_type": "stream",
          "name": "stdout",
          "text": [
            "True\n"
          ]
        }
      ]
    },
    {
      "cell_type": "code",
      "source": [
        "NaMe = 121\n",
        "print(name)"
      ],
      "metadata": {
        "colab": {
          "base_uri": "https://localhost:8080/"
        },
        "id": "y6AjnvM3XPag",
        "outputId": "6ef071fd-aea9-4f3d-c4e3-d4f6de39ea12"
      },
      "execution_count": 1446,
      "outputs": [
        {
          "output_type": "stream",
          "name": "stdout",
          "text": [
            "shrushti\n"
          ]
        }
      ]
    },
    {
      "cell_type": "code",
      "source": [
        "NA_12_ME = \"Chikodi\"\n",
        "print(NA_12_ME)"
      ],
      "metadata": {
        "colab": {
          "base_uri": "https://localhost:8080/"
        },
        "id": "xkNmSOmqXrGX",
        "outputId": "e2a31280-b79e-4015-f46c-11781287b8e9"
      },
      "execution_count": 1447,
      "outputs": [
        {
          "output_type": "stream",
          "name": "stdout",
          "text": [
            "Chikodi\n"
          ]
        }
      ]
    },
    {
      "cell_type": "code",
      "source": [
        "name = \"college\"\n",
        "per = 67.34\n",
        "print(name,per)"
      ],
      "metadata": {
        "colab": {
          "base_uri": "https://localhost:8080/"
        },
        "id": "jD6l6M2eX9Hw",
        "outputId": "542fa093-50b2-4aa2-98bc-2a058749dff5"
      },
      "execution_count": 1448,
      "outputs": [
        {
          "output_type": "stream",
          "name": "stdout",
          "text": [
            "college 67.34\n"
          ]
        }
      ]
    },
    {
      "cell_type": "code",
      "source": [
        "\n",
        "Name = \"shrushti\"\n",
        "college = \"BK COLLEGE\"\n",
        "print(\"My name is\" ,Name,\"Iam studing in\",college)"
      ],
      "metadata": {
        "colab": {
          "base_uri": "https://localhost:8080/"
        },
        "id": "tyls3fcUZXRA",
        "outputId": "1a0d9643-b14c-4ac2-af2c-418b3d062759"
      },
      "execution_count": 1449,
      "outputs": [
        {
          "output_type": "stream",
          "name": "stdout",
          "text": [
            "My name is shrushti Iam studing in BK COLLEGE\n"
          ]
        }
      ]
    },
    {
      "cell_type": "code",
      "source": [
        "# Hello Good Evening,How are you, i'm fine,where are you from i'm from chikodi,so nice\n",
        "text = \"Good Evening\"\n",
        "address = \"I'm from chikodi\"\n",
        "print(\"Hello\",text,\"How are you,\" \"iam fine, where are you from\" ,address,\"so nice\")\n"
      ],
      "metadata": {
        "colab": {
          "base_uri": "https://localhost:8080/"
        },
        "id": "GDTa5O7dgQlD",
        "outputId": "a3c6a670-277d-45e6-857f-75476cab50b3"
      },
      "execution_count": 1450,
      "outputs": [
        {
          "output_type": "stream",
          "name": "stdout",
          "text": [
            "Hello Good Evening How are you,iam fine, where are you from I'm from chikodi so nice\n"
          ]
        }
      ]
    }
  ]
}