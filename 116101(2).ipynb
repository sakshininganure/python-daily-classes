{
  "nbformat": 4,
  "nbformat_minor": 0,
  "metadata": {
    "colab": {
      "provenance": []
    },
    "kernelspec": {
      "name": "python3",
      "display_name": "Python 3"
    },
    "language_info": {
      "name": "python"
    }
  },
  "cells": [
    {
      "cell_type": "code",
      "source": [
        "a,b,c = \"good\", \"morning\",18\n",
        "print(a,b,c)"
      ],
      "metadata": {
        "colab": {
          "base_uri": "https://localhost:8080/"
        },
        "id": "OyKcWbwRp7ui",
        "outputId": "b4d77bdb-0428-43ad-ba31-f2e7c7ffc6af"
      },
      "execution_count": 1319,
      "outputs": [
        {
          "output_type": "stream",
          "name": "stdout",
          "text": [
            "good morning 18\n"
          ]
        }
      ]
    },
    {
      "cell_type": "code",
      "source": [
        "x= y = z =1001\n",
        "print(x,y,z)"
      ],
      "metadata": {
        "colab": {
          "base_uri": "https://localhost:8080/"
        },
        "id": "cqp-lnkiuti7",
        "outputId": "c723b67a-9deb-43e6-da8c-87fbdc31abb2"
      },
      "execution_count": 1320,
      "outputs": [
        {
          "output_type": "stream",
          "name": "stdout",
          "text": [
            "1001 1001 1001\n"
          ]
        }
      ]
    },
    {
      "cell_type": "code",
      "source": [
        "A = B, C= \"College\" , 25\n",
        "print(B, C, A)"
      ],
      "metadata": {
        "colab": {
          "base_uri": "https://localhost:8080/"
        },
        "id": "WNGVsk6UvCxH",
        "outputId": "f81291df-c58c-4e76-a2a4-00597b1efe59"
      },
      "execution_count": 1321,
      "outputs": [
        {
          "output_type": "stream",
          "name": "stdout",
          "text": [
            "College 25 ('College', 25)\n"
          ]
        }
      ]
    },
    {
      "cell_type": "code",
      "source": [
        "A =10\n",
        "B =20\n",
        "print(\"Addition of\",A,\"and\",B,\"is =\",A+B )"
      ],
      "metadata": {
        "colab": {
          "base_uri": "https://localhost:8080/"
        },
        "id": "OMNAii5FzKJs",
        "outputId": "9ca69af8-4278-4d04-f62a-6a86f832002a"
      },
      "execution_count": 1322,
      "outputs": [
        {
          "output_type": "stream",
          "name": "stdout",
          "text": [
            "Addition of 10 and 20 is = 30\n"
          ]
        }
      ]
    },
    {
      "cell_type": "code",
      "source": [
        "A=10\n",
        "print(type(A))"
      ],
      "metadata": {
        "colab": {
          "base_uri": "https://localhost:8080/"
        },
        "id": "JIV-GhVr0Bwt",
        "outputId": "9252435c-8bf3-48cd-d00a-22f17418480c"
      },
      "execution_count": 1323,
      "outputs": [
        {
          "output_type": "stream",
          "name": "stdout",
          "text": [
            "<class 'int'>\n"
          ]
        }
      ]
    },
    {
      "cell_type": "code",
      "source": [
        "X = 35\n",
        "print(type(x))"
      ],
      "metadata": {
        "colab": {
          "base_uri": "https://localhost:8080/"
        },
        "id": "jA6wm0BU1XnK",
        "outputId": "640eaf4b-5c78-427b-a451-6efe868ea194"
      },
      "execution_count": 1324,
      "outputs": [
        {
          "output_type": "stream",
          "name": "stdout",
          "text": [
            "<class 'int'>\n"
          ]
        }
      ]
    },
    {
      "cell_type": "code",
      "source": [
        "college = -100\n",
        "print(type (college))"
      ],
      "metadata": {
        "colab": {
          "base_uri": "https://localhost:8080/"
        },
        "id": "uIsfIm2Y16DN",
        "outputId": "83b60451-bff0-4861-98ef-3ff97f26e532"
      },
      "execution_count": 1325,
      "outputs": [
        {
          "output_type": "stream",
          "name": "stdout",
          "text": [
            "<class 'int'>\n"
          ]
        }
      ]
    },
    {
      "cell_type": "code",
      "source": [
        "value = 0\n",
        "print(type(value))"
      ],
      "metadata": {
        "colab": {
          "base_uri": "https://localhost:8080/"
        },
        "id": "ewLgnsCb2OAd",
        "outputId": "50449466-4dbc-4ab7-a872-cf48dcaf2adf"
      },
      "execution_count": 1326,
      "outputs": [
        {
          "output_type": "stream",
          "name": "stdout",
          "text": [
            "<class 'int'>\n"
          ]
        }
      ]
    },
    {
      "cell_type": "code",
      "source": [
        "system = +200\n",
        "print(type(system))"
      ],
      "metadata": {
        "colab": {
          "base_uri": "https://localhost:8080/"
        },
        "id": "qfpXQYtD2duu",
        "outputId": "ef771d99-977c-4c35-af82-845629a5437c"
      },
      "execution_count": 1327,
      "outputs": [
        {
          "output_type": "stream",
          "name": "stdout",
          "text": [
            "<class 'int'>\n"
          ]
        }
      ]
    },
    {
      "cell_type": "code",
      "source": [
        " value = 3.33\n",
        " print(type(value))"
      ],
      "metadata": {
        "colab": {
          "base_uri": "https://localhost:8080/"
        },
        "id": "-1eGKxHv3GpO",
        "outputId": "7bfab628-cf47-4dd8-d90c-39a88311ca3c"
      },
      "execution_count": 1328,
      "outputs": [
        {
          "output_type": "stream",
          "name": "stdout",
          "text": [
            "<class 'float'>\n"
          ]
        }
      ]
    },
    {
      "cell_type": "code",
      "source": [
        "name =-100.33\n",
        "print(type(name))"
      ],
      "metadata": {
        "colab": {
          "base_uri": "https://localhost:8080/"
        },
        "id": "Xic3ZBht32En",
        "outputId": "37525e96-0f42-4142-abae-dbcc62aa0e8b"
      },
      "execution_count": 1329,
      "outputs": [
        {
          "output_type": "stream",
          "name": "stdout",
          "text": [
            "<class 'float'>\n"
          ]
        }
      ]
    },
    {
      "cell_type": "code",
      "source": [
        "name = 100/7\n",
        "print(type(name))"
      ],
      "metadata": {
        "colab": {
          "base_uri": "https://localhost:8080/"
        },
        "id": "OPzYzrQB4E4f",
        "outputId": "92e21bb2-0ce5-4676-b5a9-d5aa84b3009c"
      },
      "execution_count": 1330,
      "outputs": [
        {
          "output_type": "stream",
          "name": "stdout",
          "text": [
            "<class 'float'>\n"
          ]
        }
      ]
    },
    {
      "cell_type": "code",
      "source": [
        "yes = True\n",
        "print(type(yes))"
      ],
      "metadata": {
        "colab": {
          "base_uri": "https://localhost:8080/"
        },
        "id": "VemGtYsI4Y1I",
        "outputId": "f9daa886-6f6f-4fcf-a317-b13f673f3b81"
      },
      "execution_count": 1331,
      "outputs": [
        {
          "output_type": "stream",
          "name": "stdout",
          "text": [
            "<class 'bool'>\n"
          ]
        }
      ]
    },
    {
      "cell_type": "code",
      "source": [
        "yes = \"False\"\n",
        "print(type(yes))\n"
      ],
      "metadata": {
        "colab": {
          "base_uri": "https://localhost:8080/"
        },
        "id": "IEG1nxK25eAt",
        "outputId": "02a71b47-d85e-4dee-87e9-8ac706134094"
      },
      "execution_count": 1332,
      "outputs": [
        {
          "output_type": "stream",
          "name": "stdout",
          "text": [
            "<class 'str'>\n"
          ]
        }
      ]
    },
    {
      "cell_type": "code",
      "source": [
        "value = 27.12\n",
        "print(type(value))"
      ],
      "metadata": {
        "colab": {
          "base_uri": "https://localhost:8080/"
        },
        "id": "16qK0-fb6OqX",
        "outputId": "1fc45eb3-dac2-4217-e687-ab34e1397649"
      },
      "execution_count": 1333,
      "outputs": [
        {
          "output_type": "stream",
          "name": "stdout",
          "text": [
            "<class 'float'>\n"
          ]
        }
      ]
    },
    {
      "cell_type": "code",
      "source": [
        "section = '''c'''\n",
        "print(type(section))"
      ],
      "metadata": {
        "colab": {
          "base_uri": "https://localhost:8080/"
        },
        "id": "I51Ls1u16lhf",
        "outputId": "7261ed68-0b69-462e-8349-a92e87f26892"
      },
      "execution_count": 1334,
      "outputs": [
        {
          "output_type": "stream",
          "name": "stdout",
          "text": [
            "<class 'str'>\n"
          ]
        }
      ]
    },
    {
      "cell_type": "code",
      "source": [
        "programe = \"\"\" programe\"\"\"\n",
        "print(type(programe))"
      ],
      "metadata": {
        "colab": {
          "base_uri": "https://localhost:8080/"
        },
        "id": "1HLTi6ps617-",
        "outputId": "fcfe99c0-56e5-45a3-d36e-b62f728aa00d"
      },
      "execution_count": 1335,
      "outputs": [
        {
          "output_type": "stream",
          "name": "stdout",
          "text": [
            "<class 'str'>\n"
          ]
        }
      ]
    },
    {
      "cell_type": "code",
      "source": [
        "String = \"python programming language\"\n",
        "\n",
        "print(String)"
      ],
      "metadata": {
        "colab": {
          "base_uri": "https://localhost:8080/"
        },
        "id": "3tseGyUd9MMY",
        "outputId": "16a0607a-d27e-48fb-e3d1-7b41af491f7f"
      },
      "execution_count": 1336,
      "outputs": [
        {
          "output_type": "stream",
          "name": "stdout",
          "text": [
            "python programming language\n"
          ]
        }
      ]
    },
    {
      "cell_type": "code",
      "source": [
        "first = \"BK\\n\"\n",
        "second = \"college\\n\"\n",
        "print(first+second*5)"
      ],
      "metadata": {
        "colab": {
          "base_uri": "https://localhost:8080/"
        },
        "id": "cSNsMGFD-aiA",
        "outputId": "a785e2df-3f1c-4433-bc0d-3c489570661f"
      },
      "execution_count": 1337,
      "outputs": [
        {
          "output_type": "stream",
          "name": "stdout",
          "text": [
            "BK\n",
            "college\n",
            "college\n",
            "college\n",
            "college\n",
            "college\n",
            "\n"
          ]
        }
      ]
    },
    {
      "cell_type": "code",
      "source": [
        "Number = 78*3\n",
        "print(type(Number))"
      ],
      "metadata": {
        "colab": {
          "base_uri": "https://localhost:8080/"
        },
        "id": "I0h5ptdGBEZS",
        "outputId": "76950ee7-3ece-4425-b16b-f3f0feb70da9"
      },
      "execution_count": 1338,
      "outputs": [
        {
          "output_type": "stream",
          "name": "stdout",
          "text": [
            "<class 'int'>\n"
          ]
        }
      ]
    },
    {
      "cell_type": "code",
      "source": [
        "first = \"BK\"\n",
        "SECOND = \"college\"\n",
        "print(((first +\" \"+second)+\"\\n\")*5)"
      ],
      "metadata": {
        "colab": {
          "base_uri": "https://localhost:8080/"
        },
        "id": "hplVN2BoCQgo",
        "outputId": "e0975202-80ae-434a-d9af-cb8aa4fdc4dd"
      },
      "execution_count": 1339,
      "outputs": [
        {
          "output_type": "stream",
          "name": "stdout",
          "text": [
            "BK college\n",
            "\n",
            "BK college\n",
            "\n",
            "BK college\n",
            "\n",
            "BK college\n",
            "\n",
            "BK college\n",
            "\n",
            "\n"
          ]
        }
      ]
    },
    {
      "cell_type": "code",
      "source": [
        "name = \"python programming languages\"\n",
        "print(name[5])\n",
        "print(name[-2])\n",
        "print(name[18])\n",
        "print(name[3:14])\n",
        "print(name[:20])\n",
        "print(name[6:])\n",
        "print(name[:-1])\n",
        "print(name[-22:-4])\n",
        "print(name[::1])\n",
        "print(name[::2])\n",
        "print(name[::-1])\n",
        "print(name[::-3])\n",
        "print(name[::-4])\n",
        ""
      ],
      "metadata": {
        "colab": {
          "base_uri": "https://localhost:8080/"
        },
        "id": "vY-uvK_wEgWn",
        "outputId": "af9928db-1ee7-42f1-9c4f-7b90847e4174"
      },
      "execution_count": 1340,
      "outputs": [
        {
          "output_type": "stream",
          "name": "stdout",
          "text": [
            "n\n",
            "e\n",
            " \n",
            "hon program\n",
            "python programming l\n",
            " programming languages\n",
            "python programming language\n",
            " programming langu\n",
            "python programming languages\n",
            "pto rgamn agae\n",
            "segaugnal gnimmargorp nohtyp\n",
            "san iao hp\n",
            "sulirph\n"
          ]
        }
      ]
    },
    {
      "cell_type": "code",
      "source": [
        " Details ='''multi line comments\n",
        "hi, Good Morning\n",
        "'''\n",
        "print(Details)"
      ],
      "metadata": {
        "colab": {
          "base_uri": "https://localhost:8080/"
        },
        "id": "RyNjet12KtCq",
        "outputId": "d7c208ef-664d-44d2-f416-36ee994e397b"
      },
      "execution_count": 1341,
      "outputs": [
        {
          "output_type": "stream",
          "name": "stdout",
          "text": [
            "multi line comments\n",
            "hi, Good Morning\n",
            "\n"
          ]
        }
      ]
    }
  ]
}